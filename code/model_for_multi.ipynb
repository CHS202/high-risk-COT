{
  "nbformat": 4,
  "nbformat_minor": 0,
  "metadata": {
    "colab": {
      "provenance": []
    },
    "kernelspec": {
      "name": "python3",
      "display_name": "Python 3"
    },
    "language_info": {
      "name": "python"
    }
  },
  "cells": [
    {
      "cell_type": "code",
      "source": [
        "pip install -U imbalanced-learn"
      ],
      "metadata": {
        "colab": {
          "base_uri": "https://localhost:8080/"
        },
        "id": "fR6aJfuVY3ix",
        "outputId": "78e1d4f6-73ff-4e6b-8575-6b11c8c9122f"
      },
      "execution_count": null,
      "outputs": [
        {
          "output_type": "stream",
          "name": "stdout",
          "text": [
            "Requirement already satisfied: imbalanced-learn in /usr/local/lib/python3.11/dist-packages (0.13.0)\n",
            "Requirement already satisfied: numpy<3,>=1.24.3 in /usr/local/lib/python3.11/dist-packages (from imbalanced-learn) (2.0.2)\n",
            "Requirement already satisfied: scipy<2,>=1.10.1 in /usr/local/lib/python3.11/dist-packages (from imbalanced-learn) (1.15.3)\n",
            "Requirement already satisfied: scikit-learn<2,>=1.3.2 in /usr/local/lib/python3.11/dist-packages (from imbalanced-learn) (1.6.1)\n",
            "Requirement already satisfied: sklearn-compat<1,>=0.1 in /usr/local/lib/python3.11/dist-packages (from imbalanced-learn) (0.1.3)\n",
            "Requirement already satisfied: joblib<2,>=1.1.1 in /usr/local/lib/python3.11/dist-packages (from imbalanced-learn) (1.5.0)\n",
            "Requirement already satisfied: threadpoolctl<4,>=2.0.0 in /usr/local/lib/python3.11/dist-packages (from imbalanced-learn) (3.6.0)\n"
          ]
        }
      ]
    },
    {
      "cell_type": "code",
      "source": [
        "import pandas as pd\n",
        "from sklearn.model_selection import train_test_split\n",
        "from sklearn.svm import SVC\n",
        "from sklearn.metrics import classification_report, confusion_matrix\n",
        "# For SMOTE\n",
        "from imblearn.over_sampling import SMOTE\n",
        "# For a more balanced evaluation, especially with class_weight or SMOTE\n",
        "from sklearn.metrics import balanced_accuracy_score, roc_auc_score"
      ],
      "metadata": {
        "id": "YYSLSAfaWXzh"
      },
      "execution_count": null,
      "outputs": []
    },
    {
      "cell_type": "markdown",
      "source": [
        "# Support vector machine\n",
        "the cohort is imbalanced, therefore using two approaches to get better result"
      ],
      "metadata": {
        "id": "JO5NKlI3WB2Z"
      }
    },
    {
      "cell_type": "markdown",
      "source": [
        "## Approach 1\n",
        "Using class_weight='balanced' in your SVC"
      ],
      "metadata": {
        "id": "DWbmQK1dZS3-"
      }
    },
    {
      "cell_type": "code",
      "source": [
        "import pandas as pd\n",
        "from sklearn.model_selection import train_test_split\n",
        "from sklearn.svm import SVC\n",
        "from sklearn.metrics import classification_report, confusion_matrix, balanced_accuracy_score, roc_auc_score\n",
        "\n",
        "# Load your data\n",
        "features_prep_df = pd.read_csv('/content/drive/MyDrive/medical-data/data/preped/features_multivariate.csv')\n",
        "\n",
        "# Drop the 'stay_id' column if it exists and is not needed\n",
        "if 'stay_id' in features_prep_df.columns:\n",
        "    features_prep_df = features_prep_df.drop('stay_id', axis=1)\n",
        "\n",
        "# Assuming 'outcome' is the target variable\n",
        "X = features_prep_df.drop('outcome', axis=1)\n",
        "y = features_prep_df['outcome'] # Make sure your 'failed' and 'success' are encoded (e.g., 0 and 1)\n",
        "\n",
        "# Stratify the split to ensure similar class proportions in train and test sets\n",
        "# This is especially important for imbalanced datasets\n",
        "X_train, X_test, y_train, y_test = train_test_split(X, y, test_size=0.2, random_state=42, stratify=y)\n",
        "\n",
        "# Initialize and train the Support Vector Machine classifier with class_weight\n",
        "print(\"\\nTraining SVC with class_weight='balanced'...\")\n",
        "svm_classifier_balanced = SVC(kernel='linear', class_weight='balanced', probability=True) # probability=True for roc_auc_score with predict_proba\n",
        "svm_classifier_balanced.fit(X_train, y_train)\n"
      ],
      "metadata": {
        "colab": {
          "base_uri": "https://localhost:8080/",
          "height": 117
        },
        "id": "7sydn3mKWAWq",
        "outputId": "91208e8f-00b9-44c4-da58-e1a15e74529b"
      },
      "execution_count": null,
      "outputs": [
        {
          "output_type": "stream",
          "name": "stdout",
          "text": [
            "\n",
            "Training SVC with class_weight='balanced'...\n"
          ]
        },
        {
          "output_type": "execute_result",
          "data": {
            "text/plain": [
              "SVC(class_weight='balanced', kernel='linear', probability=True)"
            ],
            "text/html": [
              "<style>#sk-container-id-2 {\n",
              "  /* Definition of color scheme common for light and dark mode */\n",
              "  --sklearn-color-text: #000;\n",
              "  --sklearn-color-text-muted: #666;\n",
              "  --sklearn-color-line: gray;\n",
              "  /* Definition of color scheme for unfitted estimators */\n",
              "  --sklearn-color-unfitted-level-0: #fff5e6;\n",
              "  --sklearn-color-unfitted-level-1: #f6e4d2;\n",
              "  --sklearn-color-unfitted-level-2: #ffe0b3;\n",
              "  --sklearn-color-unfitted-level-3: chocolate;\n",
              "  /* Definition of color scheme for fitted estimators */\n",
              "  --sklearn-color-fitted-level-0: #f0f8ff;\n",
              "  --sklearn-color-fitted-level-1: #d4ebff;\n",
              "  --sklearn-color-fitted-level-2: #b3dbfd;\n",
              "  --sklearn-color-fitted-level-3: cornflowerblue;\n",
              "\n",
              "  /* Specific color for light theme */\n",
              "  --sklearn-color-text-on-default-background: var(--sg-text-color, var(--theme-code-foreground, var(--jp-content-font-color1, black)));\n",
              "  --sklearn-color-background: var(--sg-background-color, var(--theme-background, var(--jp-layout-color0, white)));\n",
              "  --sklearn-color-border-box: var(--sg-text-color, var(--theme-code-foreground, var(--jp-content-font-color1, black)));\n",
              "  --sklearn-color-icon: #696969;\n",
              "\n",
              "  @media (prefers-color-scheme: dark) {\n",
              "    /* Redefinition of color scheme for dark theme */\n",
              "    --sklearn-color-text-on-default-background: var(--sg-text-color, var(--theme-code-foreground, var(--jp-content-font-color1, white)));\n",
              "    --sklearn-color-background: var(--sg-background-color, var(--theme-background, var(--jp-layout-color0, #111)));\n",
              "    --sklearn-color-border-box: var(--sg-text-color, var(--theme-code-foreground, var(--jp-content-font-color1, white)));\n",
              "    --sklearn-color-icon: #878787;\n",
              "  }\n",
              "}\n",
              "\n",
              "#sk-container-id-2 {\n",
              "  color: var(--sklearn-color-text);\n",
              "}\n",
              "\n",
              "#sk-container-id-2 pre {\n",
              "  padding: 0;\n",
              "}\n",
              "\n",
              "#sk-container-id-2 input.sk-hidden--visually {\n",
              "  border: 0;\n",
              "  clip: rect(1px 1px 1px 1px);\n",
              "  clip: rect(1px, 1px, 1px, 1px);\n",
              "  height: 1px;\n",
              "  margin: -1px;\n",
              "  overflow: hidden;\n",
              "  padding: 0;\n",
              "  position: absolute;\n",
              "  width: 1px;\n",
              "}\n",
              "\n",
              "#sk-container-id-2 div.sk-dashed-wrapped {\n",
              "  border: 1px dashed var(--sklearn-color-line);\n",
              "  margin: 0 0.4em 0.5em 0.4em;\n",
              "  box-sizing: border-box;\n",
              "  padding-bottom: 0.4em;\n",
              "  background-color: var(--sklearn-color-background);\n",
              "}\n",
              "\n",
              "#sk-container-id-2 div.sk-container {\n",
              "  /* jupyter's `normalize.less` sets `[hidden] { display: none; }`\n",
              "     but bootstrap.min.css set `[hidden] { display: none !important; }`\n",
              "     so we also need the `!important` here to be able to override the\n",
              "     default hidden behavior on the sphinx rendered scikit-learn.org.\n",
              "     See: https://github.com/scikit-learn/scikit-learn/issues/21755 */\n",
              "  display: inline-block !important;\n",
              "  position: relative;\n",
              "}\n",
              "\n",
              "#sk-container-id-2 div.sk-text-repr-fallback {\n",
              "  display: none;\n",
              "}\n",
              "\n",
              "div.sk-parallel-item,\n",
              "div.sk-serial,\n",
              "div.sk-item {\n",
              "  /* draw centered vertical line to link estimators */\n",
              "  background-image: linear-gradient(var(--sklearn-color-text-on-default-background), var(--sklearn-color-text-on-default-background));\n",
              "  background-size: 2px 100%;\n",
              "  background-repeat: no-repeat;\n",
              "  background-position: center center;\n",
              "}\n",
              "\n",
              "/* Parallel-specific style estimator block */\n",
              "\n",
              "#sk-container-id-2 div.sk-parallel-item::after {\n",
              "  content: \"\";\n",
              "  width: 100%;\n",
              "  border-bottom: 2px solid var(--sklearn-color-text-on-default-background);\n",
              "  flex-grow: 1;\n",
              "}\n",
              "\n",
              "#sk-container-id-2 div.sk-parallel {\n",
              "  display: flex;\n",
              "  align-items: stretch;\n",
              "  justify-content: center;\n",
              "  background-color: var(--sklearn-color-background);\n",
              "  position: relative;\n",
              "}\n",
              "\n",
              "#sk-container-id-2 div.sk-parallel-item {\n",
              "  display: flex;\n",
              "  flex-direction: column;\n",
              "}\n",
              "\n",
              "#sk-container-id-2 div.sk-parallel-item:first-child::after {\n",
              "  align-self: flex-end;\n",
              "  width: 50%;\n",
              "}\n",
              "\n",
              "#sk-container-id-2 div.sk-parallel-item:last-child::after {\n",
              "  align-self: flex-start;\n",
              "  width: 50%;\n",
              "}\n",
              "\n",
              "#sk-container-id-2 div.sk-parallel-item:only-child::after {\n",
              "  width: 0;\n",
              "}\n",
              "\n",
              "/* Serial-specific style estimator block */\n",
              "\n",
              "#sk-container-id-2 div.sk-serial {\n",
              "  display: flex;\n",
              "  flex-direction: column;\n",
              "  align-items: center;\n",
              "  background-color: var(--sklearn-color-background);\n",
              "  padding-right: 1em;\n",
              "  padding-left: 1em;\n",
              "}\n",
              "\n",
              "\n",
              "/* Toggleable style: style used for estimator/Pipeline/ColumnTransformer box that is\n",
              "clickable and can be expanded/collapsed.\n",
              "- Pipeline and ColumnTransformer use this feature and define the default style\n",
              "- Estimators will overwrite some part of the style using the `sk-estimator` class\n",
              "*/\n",
              "\n",
              "/* Pipeline and ColumnTransformer style (default) */\n",
              "\n",
              "#sk-container-id-2 div.sk-toggleable {\n",
              "  /* Default theme specific background. It is overwritten whether we have a\n",
              "  specific estimator or a Pipeline/ColumnTransformer */\n",
              "  background-color: var(--sklearn-color-background);\n",
              "}\n",
              "\n",
              "/* Toggleable label */\n",
              "#sk-container-id-2 label.sk-toggleable__label {\n",
              "  cursor: pointer;\n",
              "  display: flex;\n",
              "  width: 100%;\n",
              "  margin-bottom: 0;\n",
              "  padding: 0.5em;\n",
              "  box-sizing: border-box;\n",
              "  text-align: center;\n",
              "  align-items: start;\n",
              "  justify-content: space-between;\n",
              "  gap: 0.5em;\n",
              "}\n",
              "\n",
              "#sk-container-id-2 label.sk-toggleable__label .caption {\n",
              "  font-size: 0.6rem;\n",
              "  font-weight: lighter;\n",
              "  color: var(--sklearn-color-text-muted);\n",
              "}\n",
              "\n",
              "#sk-container-id-2 label.sk-toggleable__label-arrow:before {\n",
              "  /* Arrow on the left of the label */\n",
              "  content: \"▸\";\n",
              "  float: left;\n",
              "  margin-right: 0.25em;\n",
              "  color: var(--sklearn-color-icon);\n",
              "}\n",
              "\n",
              "#sk-container-id-2 label.sk-toggleable__label-arrow:hover:before {\n",
              "  color: var(--sklearn-color-text);\n",
              "}\n",
              "\n",
              "/* Toggleable content - dropdown */\n",
              "\n",
              "#sk-container-id-2 div.sk-toggleable__content {\n",
              "  max-height: 0;\n",
              "  max-width: 0;\n",
              "  overflow: hidden;\n",
              "  text-align: left;\n",
              "  /* unfitted */\n",
              "  background-color: var(--sklearn-color-unfitted-level-0);\n",
              "}\n",
              "\n",
              "#sk-container-id-2 div.sk-toggleable__content.fitted {\n",
              "  /* fitted */\n",
              "  background-color: var(--sklearn-color-fitted-level-0);\n",
              "}\n",
              "\n",
              "#sk-container-id-2 div.sk-toggleable__content pre {\n",
              "  margin: 0.2em;\n",
              "  border-radius: 0.25em;\n",
              "  color: var(--sklearn-color-text);\n",
              "  /* unfitted */\n",
              "  background-color: var(--sklearn-color-unfitted-level-0);\n",
              "}\n",
              "\n",
              "#sk-container-id-2 div.sk-toggleable__content.fitted pre {\n",
              "  /* unfitted */\n",
              "  background-color: var(--sklearn-color-fitted-level-0);\n",
              "}\n",
              "\n",
              "#sk-container-id-2 input.sk-toggleable__control:checked~div.sk-toggleable__content {\n",
              "  /* Expand drop-down */\n",
              "  max-height: 200px;\n",
              "  max-width: 100%;\n",
              "  overflow: auto;\n",
              "}\n",
              "\n",
              "#sk-container-id-2 input.sk-toggleable__control:checked~label.sk-toggleable__label-arrow:before {\n",
              "  content: \"▾\";\n",
              "}\n",
              "\n",
              "/* Pipeline/ColumnTransformer-specific style */\n",
              "\n",
              "#sk-container-id-2 div.sk-label input.sk-toggleable__control:checked~label.sk-toggleable__label {\n",
              "  color: var(--sklearn-color-text);\n",
              "  background-color: var(--sklearn-color-unfitted-level-2);\n",
              "}\n",
              "\n",
              "#sk-container-id-2 div.sk-label.fitted input.sk-toggleable__control:checked~label.sk-toggleable__label {\n",
              "  background-color: var(--sklearn-color-fitted-level-2);\n",
              "}\n",
              "\n",
              "/* Estimator-specific style */\n",
              "\n",
              "/* Colorize estimator box */\n",
              "#sk-container-id-2 div.sk-estimator input.sk-toggleable__control:checked~label.sk-toggleable__label {\n",
              "  /* unfitted */\n",
              "  background-color: var(--sklearn-color-unfitted-level-2);\n",
              "}\n",
              "\n",
              "#sk-container-id-2 div.sk-estimator.fitted input.sk-toggleable__control:checked~label.sk-toggleable__label {\n",
              "  /* fitted */\n",
              "  background-color: var(--sklearn-color-fitted-level-2);\n",
              "}\n",
              "\n",
              "#sk-container-id-2 div.sk-label label.sk-toggleable__label,\n",
              "#sk-container-id-2 div.sk-label label {\n",
              "  /* The background is the default theme color */\n",
              "  color: var(--sklearn-color-text-on-default-background);\n",
              "}\n",
              "\n",
              "/* On hover, darken the color of the background */\n",
              "#sk-container-id-2 div.sk-label:hover label.sk-toggleable__label {\n",
              "  color: var(--sklearn-color-text);\n",
              "  background-color: var(--sklearn-color-unfitted-level-2);\n",
              "}\n",
              "\n",
              "/* Label box, darken color on hover, fitted */\n",
              "#sk-container-id-2 div.sk-label.fitted:hover label.sk-toggleable__label.fitted {\n",
              "  color: var(--sklearn-color-text);\n",
              "  background-color: var(--sklearn-color-fitted-level-2);\n",
              "}\n",
              "\n",
              "/* Estimator label */\n",
              "\n",
              "#sk-container-id-2 div.sk-label label {\n",
              "  font-family: monospace;\n",
              "  font-weight: bold;\n",
              "  display: inline-block;\n",
              "  line-height: 1.2em;\n",
              "}\n",
              "\n",
              "#sk-container-id-2 div.sk-label-container {\n",
              "  text-align: center;\n",
              "}\n",
              "\n",
              "/* Estimator-specific */\n",
              "#sk-container-id-2 div.sk-estimator {\n",
              "  font-family: monospace;\n",
              "  border: 1px dotted var(--sklearn-color-border-box);\n",
              "  border-radius: 0.25em;\n",
              "  box-sizing: border-box;\n",
              "  margin-bottom: 0.5em;\n",
              "  /* unfitted */\n",
              "  background-color: var(--sklearn-color-unfitted-level-0);\n",
              "}\n",
              "\n",
              "#sk-container-id-2 div.sk-estimator.fitted {\n",
              "  /* fitted */\n",
              "  background-color: var(--sklearn-color-fitted-level-0);\n",
              "}\n",
              "\n",
              "/* on hover */\n",
              "#sk-container-id-2 div.sk-estimator:hover {\n",
              "  /* unfitted */\n",
              "  background-color: var(--sklearn-color-unfitted-level-2);\n",
              "}\n",
              "\n",
              "#sk-container-id-2 div.sk-estimator.fitted:hover {\n",
              "  /* fitted */\n",
              "  background-color: var(--sklearn-color-fitted-level-2);\n",
              "}\n",
              "\n",
              "/* Specification for estimator info (e.g. \"i\" and \"?\") */\n",
              "\n",
              "/* Common style for \"i\" and \"?\" */\n",
              "\n",
              ".sk-estimator-doc-link,\n",
              "a:link.sk-estimator-doc-link,\n",
              "a:visited.sk-estimator-doc-link {\n",
              "  float: right;\n",
              "  font-size: smaller;\n",
              "  line-height: 1em;\n",
              "  font-family: monospace;\n",
              "  background-color: var(--sklearn-color-background);\n",
              "  border-radius: 1em;\n",
              "  height: 1em;\n",
              "  width: 1em;\n",
              "  text-decoration: none !important;\n",
              "  margin-left: 0.5em;\n",
              "  text-align: center;\n",
              "  /* unfitted */\n",
              "  border: var(--sklearn-color-unfitted-level-1) 1pt solid;\n",
              "  color: var(--sklearn-color-unfitted-level-1);\n",
              "}\n",
              "\n",
              ".sk-estimator-doc-link.fitted,\n",
              "a:link.sk-estimator-doc-link.fitted,\n",
              "a:visited.sk-estimator-doc-link.fitted {\n",
              "  /* fitted */\n",
              "  border: var(--sklearn-color-fitted-level-1) 1pt solid;\n",
              "  color: var(--sklearn-color-fitted-level-1);\n",
              "}\n",
              "\n",
              "/* On hover */\n",
              "div.sk-estimator:hover .sk-estimator-doc-link:hover,\n",
              ".sk-estimator-doc-link:hover,\n",
              "div.sk-label-container:hover .sk-estimator-doc-link:hover,\n",
              ".sk-estimator-doc-link:hover {\n",
              "  /* unfitted */\n",
              "  background-color: var(--sklearn-color-unfitted-level-3);\n",
              "  color: var(--sklearn-color-background);\n",
              "  text-decoration: none;\n",
              "}\n",
              "\n",
              "div.sk-estimator.fitted:hover .sk-estimator-doc-link.fitted:hover,\n",
              ".sk-estimator-doc-link.fitted:hover,\n",
              "div.sk-label-container:hover .sk-estimator-doc-link.fitted:hover,\n",
              ".sk-estimator-doc-link.fitted:hover {\n",
              "  /* fitted */\n",
              "  background-color: var(--sklearn-color-fitted-level-3);\n",
              "  color: var(--sklearn-color-background);\n",
              "  text-decoration: none;\n",
              "}\n",
              "\n",
              "/* Span, style for the box shown on hovering the info icon */\n",
              ".sk-estimator-doc-link span {\n",
              "  display: none;\n",
              "  z-index: 9999;\n",
              "  position: relative;\n",
              "  font-weight: normal;\n",
              "  right: .2ex;\n",
              "  padding: .5ex;\n",
              "  margin: .5ex;\n",
              "  width: min-content;\n",
              "  min-width: 20ex;\n",
              "  max-width: 50ex;\n",
              "  color: var(--sklearn-color-text);\n",
              "  box-shadow: 2pt 2pt 4pt #999;\n",
              "  /* unfitted */\n",
              "  background: var(--sklearn-color-unfitted-level-0);\n",
              "  border: .5pt solid var(--sklearn-color-unfitted-level-3);\n",
              "}\n",
              "\n",
              ".sk-estimator-doc-link.fitted span {\n",
              "  /* fitted */\n",
              "  background: var(--sklearn-color-fitted-level-0);\n",
              "  border: var(--sklearn-color-fitted-level-3);\n",
              "}\n",
              "\n",
              ".sk-estimator-doc-link:hover span {\n",
              "  display: block;\n",
              "}\n",
              "\n",
              "/* \"?\"-specific style due to the `<a>` HTML tag */\n",
              "\n",
              "#sk-container-id-2 a.estimator_doc_link {\n",
              "  float: right;\n",
              "  font-size: 1rem;\n",
              "  line-height: 1em;\n",
              "  font-family: monospace;\n",
              "  background-color: var(--sklearn-color-background);\n",
              "  border-radius: 1rem;\n",
              "  height: 1rem;\n",
              "  width: 1rem;\n",
              "  text-decoration: none;\n",
              "  /* unfitted */\n",
              "  color: var(--sklearn-color-unfitted-level-1);\n",
              "  border: var(--sklearn-color-unfitted-level-1) 1pt solid;\n",
              "}\n",
              "\n",
              "#sk-container-id-2 a.estimator_doc_link.fitted {\n",
              "  /* fitted */\n",
              "  border: var(--sklearn-color-fitted-level-1) 1pt solid;\n",
              "  color: var(--sklearn-color-fitted-level-1);\n",
              "}\n",
              "\n",
              "/* On hover */\n",
              "#sk-container-id-2 a.estimator_doc_link:hover {\n",
              "  /* unfitted */\n",
              "  background-color: var(--sklearn-color-unfitted-level-3);\n",
              "  color: var(--sklearn-color-background);\n",
              "  text-decoration: none;\n",
              "}\n",
              "\n",
              "#sk-container-id-2 a.estimator_doc_link.fitted:hover {\n",
              "  /* fitted */\n",
              "  background-color: var(--sklearn-color-fitted-level-3);\n",
              "}\n",
              "</style><div id=\"sk-container-id-2\" class=\"sk-top-container\"><div class=\"sk-text-repr-fallback\"><pre>SVC(class_weight=&#x27;balanced&#x27;, kernel=&#x27;linear&#x27;, probability=True)</pre><b>In a Jupyter environment, please rerun this cell to show the HTML representation or trust the notebook. <br />On GitHub, the HTML representation is unable to render, please try loading this page with nbviewer.org.</b></div><div class=\"sk-container\" hidden><div class=\"sk-item\"><div class=\"sk-estimator fitted sk-toggleable\"><input class=\"sk-toggleable__control sk-hidden--visually\" id=\"sk-estimator-id-2\" type=\"checkbox\" checked><label for=\"sk-estimator-id-2\" class=\"sk-toggleable__label fitted sk-toggleable__label-arrow\"><div><div>SVC</div></div><div><a class=\"sk-estimator-doc-link fitted\" rel=\"noreferrer\" target=\"_blank\" href=\"https://scikit-learn.org/1.6/modules/generated/sklearn.svm.SVC.html\">?<span>Documentation for SVC</span></a><span class=\"sk-estimator-doc-link fitted\">i<span>Fitted</span></span></div></label><div class=\"sk-toggleable__content fitted\"><pre>SVC(class_weight=&#x27;balanced&#x27;, kernel=&#x27;linear&#x27;, probability=True)</pre></div> </div></div></div></div>"
            ]
          },
          "metadata": {},
          "execution_count": 10
        }
      ]
    },
    {
      "cell_type": "code",
      "source": [
        "# Make predictions on the test set\n",
        "# y_pred_balanced = svm_classifier_balanced.predict(X_test)\n",
        "y_pred_balanced = (svm_classifier_balanced.predict_proba(X_test)[:, 1] >= 0.85).astype(bool)\n",
        "\n",
        "# Evaluate the model\n",
        "print(\"\\nEvaluation for SVC with class_weight='balanced':\")\n",
        "cm = confusion_matrix(y_test, y_pred_balanced)\n",
        "print(\"Confusion Matrix:\")\n",
        "print(cm)\n",
        "print(\"\\nClassification Report:\")\n",
        "print(classification_report(y_test, y_pred_balanced))\n",
        "print(f\"Balanced Accuracy: {balanced_accuracy_score(y_test, y_pred_balanced)}\")"
      ],
      "metadata": {
        "colab": {
          "base_uri": "https://localhost:8080/"
        },
        "id": "OlW4na1_1nJq",
        "outputId": "886625be-7951-465e-ddea-d054d700c491"
      },
      "execution_count": null,
      "outputs": [
        {
          "output_type": "stream",
          "name": "stdout",
          "text": [
            "\n",
            "Evaluation for SVC with class_weight='balanced':\n",
            "Confusion Matrix:\n",
            "[[ 139   44]\n",
            " [ 124 1807]]\n",
            "\n",
            "Classification Report:\n",
            "              precision    recall  f1-score   support\n",
            "\n",
            "         0.0       0.53      0.76      0.62       183\n",
            "         1.0       0.98      0.94      0.96      1931\n",
            "\n",
            "    accuracy                           0.92      2114\n",
            "   macro avg       0.75      0.85      0.79      2114\n",
            "weighted avg       0.94      0.92      0.93      2114\n",
            "\n",
            "Balanced Accuracy: 0.8476737045558093\n"
          ]
        }
      ]
    },
    {
      "cell_type": "code",
      "source": [
        "# f1 score\n",
        "from sklearn.metrics import f1_score\n",
        "print(f1_score(y_test, y_pred_balanced))"
      ],
      "metadata": {
        "id": "dei8uTxkrx6r",
        "colab": {
          "base_uri": "https://localhost:8080/"
        },
        "outputId": "7d9dad54-c399-4d27-a350-44727fa485aa"
      },
      "execution_count": null,
      "outputs": [
        {
          "output_type": "stream",
          "name": "stdout",
          "text": [
            "0.955579058699101\n"
          ]
        }
      ]
    },
    {
      "cell_type": "markdown",
      "source": [
        "### Calculate Youden's Index"
      ],
      "metadata": {
        "id": "uPSyjUxujE6Z"
      }
    },
    {
      "cell_type": "code",
      "source": [
        "# Assuming the standard scikit-learn confusion matrix layout:\n",
        "# TN = cm[0, 0]\n",
        "# FP = cm[0, 1]\n",
        "# FN = cm[1, 0]\n",
        "# TP = cm[1, 1]\n",
        "# Make sure this mapping is correct for your specific positive/negative class encoding.\n",
        "# If your positive class is 1 and negative class is 0:\n",
        "TN = cm[0, 0]\n",
        "FP = cm[0, 1]\n",
        "FN = cm[1, 0]\n",
        "TP = cm[1, 1]\n",
        "\n",
        "# Handle potential division by zero if a class has no samples in the test set or no predictions for it\n",
        "if (TP + FN) == 0:\n",
        "    sensitivity = 0.0\n",
        "    print(\"Warning: Denominator for sensitivity (TP + FN) is zero.\")\n",
        "else:\n",
        "    sensitivity = TP / (TP + FN)\n",
        "\n",
        "if (TN + FP) == 0:\n",
        "    specificity = 0.0\n",
        "    print(\"Warning: Denominator for specificity (TN + FP) is zero.\")\n",
        "else:\n",
        "    specificity = TN / (TN + FP)\n",
        "\n",
        "youden_index = sensitivity + specificity - 1\n",
        "\n",
        "print(f\"Sensitivity (Recall for positive class): {sensitivity}\")\n",
        "print(f\"Specificity: {specificity}\")\n",
        "print(f\"Youden's Index: {youden_index}\")"
      ],
      "metadata": {
        "id": "sKFfxaXPjB0P",
        "colab": {
          "base_uri": "https://localhost:8080/"
        },
        "outputId": "2dac1d9a-f3a6-4682-aa3d-165eff9c55c0"
      },
      "execution_count": null,
      "outputs": [
        {
          "output_type": "stream",
          "name": "stdout",
          "text": [
            "Sensitivity (Recall for positive class): 0.9357845675815639\n",
            "Specificity: 0.7595628415300546\n",
            "Youden's Index: 0.6953474091116185\n"
          ]
        }
      ]
    },
    {
      "cell_type": "markdown",
      "source": [
        "### Calculate AUC-ROC"
      ],
      "metadata": {
        "id": "FRpPn8frjHIx"
      }
    },
    {
      "cell_type": "code",
      "source": [
        "# If your minority class is 'failed' (e.g., label 0) and majority 'success' (e.g., label 1),\n",
        "# and you want AUC for detecting 'failed', you might need to adjust roc_auc_score if y_test has string labels.\n",
        "# Ensure y_test and y_pred_proba are numeric.\n",
        "try:\n",
        "    y_pred_proba_balanced = svm_classifier_balanced.predict_proba(X_test)[:, 1] # Probability of the positive class\n",
        "    # If your \"failed\" class is 0, you might want predict_proba(X_test)[:, 0]\n",
        "    # Or, ensure your positive label in roc_auc_score matches the \"failed\" class if it's not 1.\n",
        "    # For simplicity, assuming '1' is the class of interest or your labels are 0 and 1.\n",
        "    print(f\"AUC-ROC: {roc_auc_score(y_test, y_pred_proba_balanced)}\")\n",
        "except Exception as e:\n",
        "    print(f\"Could not calculate AUC-ROC with predict_proba: {e}\")\n",
        "    # Fallback to decision_function if predict_proba fails or is not desired\n",
        "    try:\n",
        "        y_score_balanced = svm_classifier_balanced.decision_function(X_test)\n",
        "        print(f\"AUC-ROC (using decision function): {roc_auc_score(y_test, y_score_balanced)}\")\n",
        "    except Exception as e_df:\n",
        "        print(f\"Could not calculate AUC-ROC with decision_function: {e_df}\")"
      ],
      "metadata": {
        "id": "R9yQQtMPi_ic",
        "colab": {
          "base_uri": "https://localhost:8080/"
        },
        "outputId": "bfd14874-fac3-4e89-ee0a-b63c3e1e10d0"
      },
      "execution_count": null,
      "outputs": [
        {
          "output_type": "stream",
          "name": "stdout",
          "text": [
            "AUC-ROC: 0.8225897281342943\n"
          ]
        }
      ]
    },
    {
      "cell_type": "code",
      "source": [
        "# prompt: Plot ROC curve\n",
        "\n",
        "import matplotlib.pyplot as plt\n",
        "from sklearn.metrics import roc_curve, auc\n",
        "\n",
        "# Assuming y_pred_proba_balanced is available from previous code\n",
        "# If not, uncomment the following lines to compute the predicted probabilities\n",
        "# y_pred_proba_balanced = svm_classifier_balanced.predict_proba(X_test)[:, 1]\n",
        "\n",
        "fpr, tpr, thresholds = roc_curve(y_test, y_pred_proba_balanced)\n",
        "roc_auc = auc(fpr, tpr)\n",
        "\n",
        "plt.figure()\n",
        "plt.plot(fpr, tpr, color='darkorange', lw=2, label='ROC curve (area = %0.2f)' % roc_auc)\n",
        "plt.plot([0, 1], [0, 1], color='navy', lw=2, linestyle='--')\n",
        "plt.xlim([0.0, 1.0])\n",
        "plt.ylim([0.0, 1.05])\n",
        "plt.xlabel('False Positive Rate')\n",
        "plt.ylabel('True Positive Rate')\n",
        "plt.title('Receiver Operating Characteristic')\n",
        "plt.legend(loc=\"lower right\")\n",
        "plt.show()\n"
      ],
      "metadata": {
        "id": "2XfzA_jQq_gM",
        "colab": {
          "base_uri": "https://localhost:8080/",
          "height": 472
        },
        "outputId": "de7a7fb7-d0e5-4c35-858e-304d9eefc0ed"
      },
      "execution_count": null,
      "outputs": [
        {
          "output_type": "display_data",
          "data": {
            "text/plain": [
              "<Figure size 640x480 with 1 Axes>"
            ],
            "image/png": "[encoded data removed]"
          },
          "metadata": {}
        }
      ]
    },
    {
      "cell_type": "code",
      "source": [
        "# save model pt file\n",
        "import pickle\n",
        "with open('/content/drive/MyDrive/medical-data/data/model_multi/SVM/svm_classifier_balanced.pkl', 'wb') as file:\n",
        "    pickle.dump(svm_classifier_balanced, file)"
      ],
      "metadata": {
        "id": "lXd3V2pVqHsf"
      },
      "execution_count": null,
      "outputs": []
    },
    {
      "cell_type": "code",
      "source": [
        "# save y_test and y_pred_proba_balanced\n",
        "import numpy as np\n",
        "np.savetxt('/content/drive/MyDrive/medical-data/data/model_multi/SVM/y_test_SVM.csv', y_test, delimiter=',')\n",
        "np.savetxt('/content/drive/MyDrive/medical-data/data/model_multi/SVM/y_pred_proba_SVM.csv', y_pred_proba_balanced, delimiter=',')\n",
        "np.savetxt('/content/drive/MyDrive/medical-data/data/model_multi/SVM/X_train_SVM.csv', X_train, delimiter=',')\n",
        "np.savetxt('/content/drive/MyDrive/medical-data/data/model_multi/SVM/X_test_SVM.csv', X_test, delimiter=',')"
      ],
      "metadata": {
        "id": "atME40HTtECc"
      },
      "execution_count": null,
      "outputs": []
    },
    {
      "cell_type": "markdown",
      "source": [
        "# NN"
      ],
      "metadata": {
        "id": "XNwKahl5mX9r"
      }
    },
    {
      "cell_type": "markdown",
      "source": [
        "## Configuration & Data Loading"
      ],
      "metadata": {
        "id": "bix3ZTEnnF0q"
      }
    },
    {
      "cell_type": "code",
      "source": [
        "import pandas as pd\n",
        "import numpy as np\n",
        "from sklearn.model_selection import train_test_split\n",
        "from sklearn.preprocessing import StandardScaler\n",
        "from sklearn.metrics import classification_report, confusion_matrix, balanced_accuracy_score, roc_auc_score\n",
        "from sklearn.utils import class_weight\n",
        "import tensorflow as tf\n",
        "from tensorflow.keras.models import Sequential\n",
        "from tensorflow.keras.layers import Dense, Dropout\n",
        "from tensorflow.keras.callbacks import EarlyStopping\n",
        "\n",
        "# --- 1. Configuration & Data Loading ---\n",
        "FILE_PATH = '/content/drive/MyDrive/medical-data/data/preped/features_multivariate.csv' # Make sure this path is correct\n",
        "TARGET_VARIABLE = 'outcome' # The column name of your target variable\n",
        "POSITIVE_CLASS_LABEL = 1 # Assuming 1 is the positive class (e.g., 'failed' or 'event occurred')\n",
        "NEGATIVE_CLASS_LABEL = 0 # Assuming 0 is the negative class\n",
        "\n",
        "# Load your data\n",
        "try:\n",
        "    features_prep_df = pd.read_csv(FILE_PATH)\n",
        "    print(\"Data loaded successfully.\")\n",
        "except FileNotFoundError:\n",
        "    print(f\"Error: The file was not found at {FILE_PATH}\")\n",
        "    print(\"Please ensure the file path is correct and the data is accessible.\")\n",
        "    exit()\n",
        "\n",
        "# Drop the 'stay_id' column if it exists and is not needed for modeling\n",
        "if 'stay_id' in features_prep_df.columns:\n",
        "    features_prep_df = features_prep_df.drop('stay_id', axis=1)\n",
        "    print(\"Dropped 'stay_id' column.\")"
      ],
      "metadata": {
        "id": "n9WKD7ZenEtc",
        "colab": {
          "base_uri": "https://localhost:8080/"
        },
        "outputId": "f7b69747-f230-47c2-99b7-c396e17e181b"
      },
      "execution_count": null,
      "outputs": [
        {
          "output_type": "stream",
          "name": "stdout",
          "text": [
            "Data loaded successfully.\n"
          ]
        }
      ]
    },
    {
      "cell_type": "markdown",
      "source": [
        "## Data Preparation"
      ],
      "metadata": {
        "id": "Rww6-rIInHlg"
      }
    },
    {
      "cell_type": "code",
      "source": [
        "# --- 2. Data Preparation ---\n",
        "if TARGET_VARIABLE not in features_prep_df.columns:\n",
        "    print(f\"Error: Target variable '{TARGET_VARIABLE}' not found in the DataFrame columns: {features_prep_df.columns.tolist()}\")\n",
        "    exit()\n",
        "\n",
        "X = features_prep_df.drop(TARGET_VARIABLE, axis=1)\n",
        "y = features_prep_df[TARGET_VARIABLE]\n",
        "\n",
        "# Ensure target variable is numerically encoded (e.g., 0 and 1)\n",
        "# If your labels are 'failed' and 'success', you need to map them.\n",
        "# For example: y = y.map({'failed': 1, 'success': 0})\n",
        "# This example assumes y is already 0s and 1s.\n",
        "if not pd.api.types.is_numeric_dtype(y):\n",
        "    print(f\"Warning: Target variable '{TARGET_VARIABLE}' is not numeric. Attempting to map common string labels.\")\n",
        "    # Example mapping, adjust if your labels are different\n",
        "    unique_labels = y.unique()\n",
        "    if len(unique_labels) == 2:\n",
        "        # Try to infer positive/negative based on common terms if not already 0/1\n",
        "        # This is a heuristic, ensure it matches your data's meaning\n",
        "        label_map = {}\n",
        "        if 'failed' in unique_labels and 'success' in unique_labels:\n",
        "            label_map = {'failed': POSITIVE_CLASS_LABEL, 'success': NEGATIVE_CLASS_LABEL}\n",
        "        elif 'yes' in unique_labels and 'no' in unique_labels:\n",
        "            label_map = {'yes': POSITIVE_CLASS_LABEL, 'no': NEGATIVE_CLASS_LABEL}\n",
        "\n",
        "        if label_map:\n",
        "            print(f\"Mapping labels: {label_map}\")\n",
        "            y = y.map(label_map)\n",
        "            if y.isnull().any():\n",
        "                print(\"Error: Null values found in target variable after mapping. Please check your labels.\")\n",
        "                exit()\n",
        "        else:\n",
        "            print(\"Error: Could not automatically map non-numeric target labels. Please encode them manually to 0 and 1.\")\n",
        "            exit()\n",
        "    else:\n",
        "        print(\"Error: Target variable must be binary (have exactly two unique classes) for this classifier.\")\n",
        "        exit()\n",
        "\n",
        "\n",
        "# Stratify the split to ensure similar class proportions in train and test sets\n",
        "X_train, X_test, y_train, y_test = train_test_split(X, y, test_size=0.2, random_state=42, stratify=y)\n",
        "print(f\"Training set shape: X_train: {X_train.shape}, y_train: {y_train.shape}\")\n",
        "print(f\"Test set shape: X_test: {X_test.shape}, y_test: {y_test.shape}\")\n",
        "\n",
        "# Feature Scaling: Neural networks are sensitive to feature scaling.\n",
        "scaler = StandardScaler()\n",
        "X_train_scaled = scaler.fit_transform(X_train)\n",
        "X_test_scaled = scaler.transform(X_test)\n",
        "print(\"Features scaled using StandardScaler.\")"
      ],
      "metadata": {
        "id": "lBPCcF30mZZZ",
        "colab": {
          "base_uri": "https://localhost:8080/"
        },
        "outputId": "480617e5-eb12-423b-83e8-69195bca9c57"
      },
      "execution_count": null,
      "outputs": [
        {
          "output_type": "stream",
          "name": "stdout",
          "text": [
            "Training set shape: X_train: (8453, 13), y_train: (8453,)\n",
            "Test set shape: X_test: (2114, 13), y_test: (2114,)\n",
            "Features scaled using StandardScaler.\n"
          ]
        }
      ]
    },
    {
      "cell_type": "markdown",
      "source": [
        "## Handle Class Imbalance"
      ],
      "metadata": {
        "id": "cfnI_LqXm-xt"
      }
    },
    {
      "cell_type": "code",
      "source": [
        "# --- 3. Handle Class Imbalance (Calculate Class Weights) ---\n",
        "# This helps the model pay more attention to the minority class.\n",
        "class_weights_values = class_weight.compute_class_weight(\n",
        "    class_weight='balanced',\n",
        "    classes=np.unique(y_train),\n",
        "    y=y_train\n",
        ")\n",
        "class_weights = {i : class_weights_values[i] for i in range(len(class_weights_values))}\n",
        "print(f\"Calculated class weights: {class_weights}\")"
      ],
      "metadata": {
        "id": "i29m5jr7m8cw",
        "colab": {
          "base_uri": "https://localhost:8080/"
        },
        "outputId": "b113467e-e2e6-4cab-a946-105d070958c7"
      },
      "execution_count": null,
      "outputs": [
        {
          "output_type": "stream",
          "name": "stdout",
          "text": [
            "Calculated class weights: {0: np.float64(5.766030013642565), 1: np.float64(0.5474740932642487)}\n"
          ]
        }
      ]
    },
    {
      "cell_type": "markdown",
      "source": [
        "## Neural Network Model Definition"
      ],
      "metadata": {
        "id": "3mw4bst-m5rG"
      }
    },
    {
      "cell_type": "code",
      "source": [
        "# --- 4. Neural Network Model Definition ---\n",
        "n_features = X_train_scaled.shape[1]\n",
        "\n",
        "model = Sequential([\n",
        "    # Input layer: n_features is the number of features in your data\n",
        "    Dense(32, activation='relu'),\n",
        "    Dropout(0.3),\n",
        "    Dense(64, activation='relu'),\n",
        "    # Dropout(0.3),\n",
        "    # Dense(128, activation='relu', input_shape=(n_features,)),\n",
        "    # Dropout(0.3),  # Dropout for regularization to prevent overfitting\n",
        "    # Dense(64, activation='relu'),\n",
        "    Dropout(0.3),\n",
        "    Dense(32, activation='relu'),\n",
        "    # Output layer: 1 neuron for binary classification, sigmoid activation for probability output\n",
        "    Dense(1, activation='sigmoid')\n",
        "])\n",
        "\n",
        "# Compile the model\n",
        "model.compile(\n",
        "    optimizer=tf.keras.optimizers.Adam(learning_rate=0.0001),\n",
        "    loss='binary_crossentropy', # For binary classification\n",
        "    metrics=['accuracy', tf.keras.metrics.AUC(name='auc')] # Add AUC as a metric\n",
        ")"
      ],
      "metadata": {
        "id": "foTbo10om5Lm"
      },
      "execution_count": null,
      "outputs": []
    },
    {
      "cell_type": "markdown",
      "source": [
        "## Model Training"
      ],
      "metadata": {
        "id": "_6aUF42Pm1-v"
      }
    },
    {
      "cell_type": "code",
      "source": [
        "# --- 5. Model Training ---\n",
        "print(\"\\nTraining the Neural Network...\")\n",
        "# Early stopping to prevent overfitting and stop training when performance plateaus\n",
        "early_stopping = EarlyStopping(\n",
        "    monitor='val_loss', # Monitor validation loss\n",
        "    patience=15,        # Number of epochs with no improvement after which training will be stopped\n",
        "    restore_best_weights=True # Restores model weights from the epoch with the best value of the monitored quantity.\n",
        ")\n",
        "\n",
        "history = model.fit(\n",
        "    X_train_scaled,\n",
        "    y_train,\n",
        "    epochs=100,          # Number of epochs (can be higher with early stopping)\n",
        "    batch_size=64,       # Number of samples per gradient update\n",
        "    validation_split=0.2, # Fraction of the training data to be used as validation data\n",
        "    class_weight=class_weights, # Apply class weights\n",
        "    callbacks=[early_stopping],\n",
        "    verbose=1            # Set to 0 for less output, 1 for progress bar\n",
        ")\n",
        "print(\"Model training complete.\")"
      ],
      "metadata": {
        "id": "9Beni_0bm1me",
        "colab": {
          "base_uri": "https://localhost:8080/"
        },
        "outputId": "c39e621f-3bed-4b45-fb37-82eeb8c9d270"
      },
      "execution_count": null,
      "outputs": [
        {
          "output_type": "stream",
          "name": "stdout",
          "text": [
            "\n",
            "Training the Neural Network...\n",
            "Epoch 1/100\n",
            "\u001b[1m106/106\u001b[0m \u001b[32m━━━━━━━━━━━━━━━━━━━━\u001b[0m\u001b[37m\u001b[0m \u001b[1m4s\u001b[0m 8ms/step - accuracy: 0.7826 - auc: 0.5181 - loss: 0.6928 - val_accuracy: 0.7073 - val_auc: 0.5532 - val_loss: 0.6211\n",
            "Epoch 2/100\n",
            "\u001b[1m106/106\u001b[0m \u001b[32m━━━━━━━━━━━━━━━━━━━━\u001b[0m\u001b[37m\u001b[0m \u001b[1m1s\u001b[0m 5ms/step - accuracy: 0.6584 - auc: 0.5970 - loss: 0.6797 - val_accuracy: 0.6203 - val_auc: 0.6187 - val_loss: 0.6585\n",
            "Epoch 3/100\n",
            "\u001b[1m106/106\u001b[0m \u001b[32m━━━━━━━━━━━━━━━━━━━━\u001b[0m\u001b[37m\u001b[0m \u001b[1m0s\u001b[0m 4ms/step - accuracy: 0.6068 - auc: 0.6331 - loss: 0.6610 - val_accuracy: 0.6115 - val_auc: 0.6543 - val_loss: 0.6655\n",
            "Epoch 4/100\n",
            "\u001b[1m106/106\u001b[0m \u001b[32m━━━━━━━━━━━━━━━━━━━━\u001b[0m\u001b[37m\u001b[0m \u001b[1m1s\u001b[0m 4ms/step - accuracy: 0.5874 - auc: 0.6157 - loss: 0.6834 - val_accuracy: 0.6038 - val_auc: 0.6733 - val_loss: 0.6645\n",
            "Epoch 5/100\n",
            "\u001b[1m106/106\u001b[0m \u001b[32m━━━━━━━━━━━━━━━━━━━━\u001b[0m\u001b[37m\u001b[0m \u001b[1m1s\u001b[0m 5ms/step - accuracy: 0.6109 - auc: 0.6569 - loss: 0.6633 - val_accuracy: 0.6115 - val_auc: 0.6835 - val_loss: 0.6583\n",
            "Epoch 6/100\n",
            "\u001b[1m106/106\u001b[0m \u001b[32m━━━━━━━━━━━━━━━━━━━━\u001b[0m\u001b[37m\u001b[0m \u001b[1m1s\u001b[0m 4ms/step - accuracy: 0.6209 - auc: 0.6865 - loss: 0.6400 - val_accuracy: 0.6286 - val_auc: 0.6898 - val_loss: 0.6443\n",
            "Epoch 7/100\n",
            "\u001b[1m106/106\u001b[0m \u001b[32m━━━━━━━━━━━━━━━━━━━━\u001b[0m\u001b[37m\u001b[0m \u001b[1m1s\u001b[0m 4ms/step - accuracy: 0.6452 - auc: 0.6896 - loss: 0.6170 - val_accuracy: 0.6292 - val_auc: 0.6958 - val_loss: 0.6417\n",
            "Epoch 8/100\n",
            "\u001b[1m106/106\u001b[0m \u001b[32m━━━━━━━━━━━━━━━━━━━━\u001b[0m\u001b[37m\u001b[0m \u001b[1m1s\u001b[0m 4ms/step - accuracy: 0.6470 - auc: 0.7056 - loss: 0.6345 - val_accuracy: 0.6387 - val_auc: 0.7014 - val_loss: 0.6321\n",
            "Epoch 9/100\n",
            "\u001b[1m106/106\u001b[0m \u001b[32m━━━━━━━━━━━━━━━━━━━━\u001b[0m\u001b[37m\u001b[0m \u001b[1m1s\u001b[0m 5ms/step - accuracy: 0.6700 - auc: 0.7308 - loss: 0.5956 - val_accuracy: 0.6416 - val_auc: 0.7059 - val_loss: 0.6292\n",
            "Epoch 10/100\n",
            "\u001b[1m106/106\u001b[0m \u001b[32m━━━━━━━━━━━━━━━━━━━━\u001b[0m\u001b[37m\u001b[0m \u001b[1m1s\u001b[0m 4ms/step - accuracy: 0.6656 - auc: 0.7062 - loss: 0.5980 - val_accuracy: 0.6363 - val_auc: 0.7084 - val_loss: 0.6339\n",
            "Epoch 11/100\n",
            "\u001b[1m106/106\u001b[0m \u001b[32m━━━━━━━━━━━━━━━━━━━━\u001b[0m\u001b[37m\u001b[0m \u001b[1m1s\u001b[0m 5ms/step - accuracy: 0.6475 - auc: 0.7088 - loss: 0.6298 - val_accuracy: 0.6452 - val_auc: 0.7114 - val_loss: 0.6287\n",
            "Epoch 12/100\n",
            "\u001b[1m106/106\u001b[0m \u001b[32m━━━━━━━━━━━━━━━━━━━━\u001b[0m\u001b[37m\u001b[0m \u001b[1m1s\u001b[0m 5ms/step - accuracy: 0.6707 - auc: 0.7157 - loss: 0.6297 - val_accuracy: 0.6541 - val_auc: 0.7140 - val_loss: 0.6156\n",
            "Epoch 13/100\n",
            "\u001b[1m106/106\u001b[0m \u001b[32m━━━━━━━━━━━━━━━━━━━━\u001b[0m\u001b[37m\u001b[0m \u001b[1m1s\u001b[0m 4ms/step - accuracy: 0.6434 - auc: 0.7050 - loss: 0.6313 - val_accuracy: 0.6606 - val_auc: 0.7168 - val_loss: 0.6080\n",
            "Epoch 14/100\n",
            "\u001b[1m106/106\u001b[0m \u001b[32m━━━━━━━━━━━━━━━━━━━━\u001b[0m\u001b[37m\u001b[0m \u001b[1m1s\u001b[0m 5ms/step - accuracy: 0.6710 - auc: 0.7420 - loss: 0.5979 - val_accuracy: 0.6546 - val_auc: 0.7196 - val_loss: 0.6164\n",
            "Epoch 15/100\n",
            "\u001b[1m106/106\u001b[0m \u001b[32m━━━━━━━━━━━━━━━━━━━━\u001b[0m\u001b[37m\u001b[0m \u001b[1m1s\u001b[0m 7ms/step - accuracy: 0.6737 - auc: 0.7273 - loss: 0.6002 - val_accuracy: 0.6588 - val_auc: 0.7225 - val_loss: 0.6106\n",
            "Epoch 16/100\n",
            "\u001b[1m106/106\u001b[0m \u001b[32m━━━━━━━━━━━━━━━━━━━━\u001b[0m\u001b[37m\u001b[0m \u001b[1m1s\u001b[0m 7ms/step - accuracy: 0.6715 - auc: 0.7222 - loss: 0.6031 - val_accuracy: 0.6576 - val_auc: 0.7244 - val_loss: 0.6093\n",
            "Epoch 17/100\n",
            "\u001b[1m106/106\u001b[0m \u001b[32m━━━━━━━━━━━━━━━━━━━━\u001b[0m\u001b[37m\u001b[0m \u001b[1m1s\u001b[0m 7ms/step - accuracy: 0.6812 - auc: 0.7445 - loss: 0.5991 - val_accuracy: 0.6635 - val_auc: 0.7265 - val_loss: 0.6038\n",
            "Epoch 18/100\n",
            "\u001b[1m106/106\u001b[0m \u001b[32m━━━━━━━━━━━━━━━━━━━━\u001b[0m\u001b[37m\u001b[0m \u001b[1m1s\u001b[0m 5ms/step - accuracy: 0.6858 - auc: 0.7560 - loss: 0.5789 - val_accuracy: 0.6706 - val_auc: 0.7294 - val_loss: 0.5972\n",
            "Epoch 19/100\n",
            "\u001b[1m106/106\u001b[0m \u001b[32m━━━━━━━━━━━━━━━━━━━━\u001b[0m\u001b[37m\u001b[0m \u001b[1m0s\u001b[0m 4ms/step - accuracy: 0.6985 - auc: 0.7667 - loss: 0.5764 - val_accuracy: 0.6712 - val_auc: 0.7317 - val_loss: 0.5980\n",
            "Epoch 20/100\n",
            "\u001b[1m106/106\u001b[0m \u001b[32m━━━━━━━━━━━━━━━━━━━━\u001b[0m\u001b[37m\u001b[0m \u001b[1m1s\u001b[0m 5ms/step - accuracy: 0.6932 - auc: 0.7580 - loss: 0.5782 - val_accuracy: 0.6712 - val_auc: 0.7334 - val_loss: 0.5979\n",
            "Epoch 21/100\n",
            "\u001b[1m106/106\u001b[0m \u001b[32m━━━━━━━━━━━━━━━━━━━━\u001b[0m\u001b[37m\u001b[0m \u001b[1m1s\u001b[0m 4ms/step - accuracy: 0.6775 - auc: 0.7117 - loss: 0.6147 - val_accuracy: 0.6753 - val_auc: 0.7356 - val_loss: 0.5969\n",
            "Epoch 22/100\n",
            "\u001b[1m106/106\u001b[0m \u001b[32m━━━━━━━━━━━━━━━━━━━━\u001b[0m\u001b[37m\u001b[0m \u001b[1m1s\u001b[0m 5ms/step - accuracy: 0.6843 - auc: 0.7654 - loss: 0.5692 - val_accuracy: 0.6783 - val_auc: 0.7378 - val_loss: 0.5908\n",
            "Epoch 23/100\n",
            "\u001b[1m106/106\u001b[0m \u001b[32m━━━━━━━━━━━━━━━━━━━━\u001b[0m\u001b[37m\u001b[0m \u001b[1m1s\u001b[0m 4ms/step - accuracy: 0.6835 - auc: 0.7504 - loss: 0.5993 - val_accuracy: 0.6824 - val_auc: 0.7406 - val_loss: 0.5870\n",
            "Epoch 24/100\n",
            "\u001b[1m106/106\u001b[0m \u001b[32m━━━━━━━━━━━━━━━━━━━━\u001b[0m\u001b[37m\u001b[0m \u001b[1m1s\u001b[0m 4ms/step - accuracy: 0.7022 - auc: 0.7464 - loss: 0.5782 - val_accuracy: 0.6872 - val_auc: 0.7437 - val_loss: 0.5848\n",
            "Epoch 25/100\n",
            "\u001b[1m106/106\u001b[0m \u001b[32m━━━━━━━━━━━━━━━━━━━━\u001b[0m\u001b[37m\u001b[0m \u001b[1m1s\u001b[0m 4ms/step - accuracy: 0.6982 - auc: 0.7610 - loss: 0.5661 - val_accuracy: 0.6907 - val_auc: 0.7451 - val_loss: 0.5775\n",
            "Epoch 26/100\n",
            "\u001b[1m106/106\u001b[0m \u001b[32m━━━━━━━━━━━━━━━━━━━━\u001b[0m\u001b[37m\u001b[0m \u001b[1m1s\u001b[0m 4ms/step - accuracy: 0.6968 - auc: 0.7627 - loss: 0.5789 - val_accuracy: 0.6913 - val_auc: 0.7475 - val_loss: 0.5773\n",
            "Epoch 27/100\n",
            "\u001b[1m106/106\u001b[0m \u001b[32m━━━━━━━━━━━━━━━━━━━━\u001b[0m\u001b[37m\u001b[0m \u001b[1m1s\u001b[0m 4ms/step - accuracy: 0.7056 - auc: 0.7747 - loss: 0.5665 - val_accuracy: 0.6990 - val_auc: 0.7499 - val_loss: 0.5700\n",
            "Epoch 28/100\n",
            "\u001b[1m106/106\u001b[0m \u001b[32m━━━━━━━━━━━━━━━━━━━━\u001b[0m\u001b[37m\u001b[0m \u001b[1m0s\u001b[0m 4ms/step - accuracy: 0.6997 - auc: 0.7658 - loss: 0.5729 - val_accuracy: 0.6984 - val_auc: 0.7518 - val_loss: 0.5713\n",
            "Epoch 29/100\n",
            "\u001b[1m106/106\u001b[0m \u001b[32m━━━━━━━━━━━━━━━━━━━━\u001b[0m\u001b[37m\u001b[0m \u001b[1m1s\u001b[0m 4ms/step - accuracy: 0.7050 - auc: 0.7545 - loss: 0.5672 - val_accuracy: 0.6937 - val_auc: 0.7535 - val_loss: 0.5716\n",
            "Epoch 30/100\n",
            "\u001b[1m106/106\u001b[0m \u001b[32m━━━━━━━━━━━━━━━━━━━━\u001b[0m\u001b[37m\u001b[0m \u001b[1m0s\u001b[0m 4ms/step - accuracy: 0.6927 - auc: 0.7622 - loss: 0.6002 - val_accuracy: 0.6978 - val_auc: 0.7571 - val_loss: 0.5684\n",
            "Epoch 31/100\n",
            "\u001b[1m106/106\u001b[0m \u001b[32m━━━━━━━━━━━━━━━━━━━━\u001b[0m\u001b[37m\u001b[0m \u001b[1m0s\u001b[0m 4ms/step - accuracy: 0.7065 - auc: 0.7607 - loss: 0.5797 - val_accuracy: 0.7025 - val_auc: 0.7596 - val_loss: 0.5660\n",
            "Epoch 32/100\n",
            "\u001b[1m106/106\u001b[0m \u001b[32m━━━━━━━━━━━━━━━━━━━━\u001b[0m\u001b[37m\u001b[0m \u001b[1m1s\u001b[0m 5ms/step - accuracy: 0.7149 - auc: 0.7722 - loss: 0.5786 - val_accuracy: 0.7079 - val_auc: 0.7607 - val_loss: 0.5520\n",
            "Epoch 33/100\n",
            "\u001b[1m106/106\u001b[0m \u001b[32m━━━━━━━━━━━━━━━━━━━━\u001b[0m\u001b[37m\u001b[0m \u001b[1m1s\u001b[0m 4ms/step - accuracy: 0.7292 - auc: 0.7872 - loss: 0.5510 - val_accuracy: 0.7090 - val_auc: 0.7623 - val_loss: 0.5502\n",
            "Epoch 34/100\n",
            "\u001b[1m106/106\u001b[0m \u001b[32m━━━━━━━━━━━━━━━━━━━━\u001b[0m\u001b[37m\u001b[0m \u001b[1m1s\u001b[0m 7ms/step - accuracy: 0.7168 - auc: 0.7708 - loss: 0.5794 - val_accuracy: 0.7102 - val_auc: 0.7650 - val_loss: 0.5496\n",
            "Epoch 35/100\n",
            "\u001b[1m106/106\u001b[0m \u001b[32m━━━━━━━━━━━━━━━━━━━━\u001b[0m\u001b[37m\u001b[0m \u001b[1m1s\u001b[0m 7ms/step - accuracy: 0.7261 - auc: 0.7806 - loss: 0.5539 - val_accuracy: 0.7150 - val_auc: 0.7692 - val_loss: 0.5443\n",
            "Epoch 36/100\n",
            "\u001b[1m106/106\u001b[0m \u001b[32m━━━━━━━━━━━━━━━━━━━━\u001b[0m\u001b[37m\u001b[0m \u001b[1m1s\u001b[0m 7ms/step - accuracy: 0.7086 - auc: 0.7383 - loss: 0.5807 - val_accuracy: 0.7161 - val_auc: 0.7719 - val_loss: 0.5481\n",
            "Epoch 37/100\n",
            "\u001b[1m106/106\u001b[0m \u001b[32m━━━━━━━━━━━━━━━━━━━━\u001b[0m\u001b[37m\u001b[0m \u001b[1m1s\u001b[0m 4ms/step - accuracy: 0.7136 - auc: 0.7631 - loss: 0.5734 - val_accuracy: 0.7167 - val_auc: 0.7744 - val_loss: 0.5477\n",
            "Epoch 38/100\n",
            "\u001b[1m106/106\u001b[0m \u001b[32m━━━━━━━━━━━━━━━━━━━━\u001b[0m\u001b[37m\u001b[0m \u001b[1m0s\u001b[0m 4ms/step - accuracy: 0.7299 - auc: 0.7833 - loss: 0.5510 - val_accuracy: 0.7244 - val_auc: 0.7760 - val_loss: 0.5365\n",
            "Epoch 39/100\n",
            "\u001b[1m106/106\u001b[0m \u001b[32m━━━━━━━━━━━━━━━━━━━━\u001b[0m\u001b[37m\u001b[0m \u001b[1m1s\u001b[0m 5ms/step - accuracy: 0.7192 - auc: 0.7790 - loss: 0.5665 - val_accuracy: 0.7244 - val_auc: 0.7781 - val_loss: 0.5347\n",
            "Epoch 40/100\n",
            "\u001b[1m106/106\u001b[0m \u001b[32m━━━━━━━━━━━━━━━━━━━━\u001b[0m\u001b[37m\u001b[0m \u001b[1m1s\u001b[0m 5ms/step - accuracy: 0.7215 - auc: 0.7717 - loss: 0.5641 - val_accuracy: 0.7268 - val_auc: 0.7820 - val_loss: 0.5370\n",
            "Epoch 41/100\n",
            "\u001b[1m106/106\u001b[0m \u001b[32m━━━━━━━━━━━━━━━━━━━━\u001b[0m\u001b[37m\u001b[0m \u001b[1m1s\u001b[0m 5ms/step - accuracy: 0.7371 - auc: 0.7901 - loss: 0.5532 - val_accuracy: 0.7363 - val_auc: 0.7836 - val_loss: 0.5222\n",
            "Epoch 42/100\n",
            "\u001b[1m106/106\u001b[0m \u001b[32m━━━━━━━━━━━━━━━━━━━━\u001b[0m\u001b[37m\u001b[0m \u001b[1m1s\u001b[0m 5ms/step - accuracy: 0.7265 - auc: 0.7624 - loss: 0.5893 - val_accuracy: 0.7398 - val_auc: 0.7876 - val_loss: 0.5212\n",
            "Epoch 43/100\n",
            "\u001b[1m106/106\u001b[0m \u001b[32m━━━━━━━━━━━━━━━━━━━━\u001b[0m\u001b[37m\u001b[0m \u001b[1m0s\u001b[0m 4ms/step - accuracy: 0.7450 - auc: 0.8054 - loss: 0.5296 - val_accuracy: 0.7392 - val_auc: 0.7900 - val_loss: 0.5207\n",
            "Epoch 44/100\n",
            "\u001b[1m106/106\u001b[0m \u001b[32m━━━━━━━━━━━━━━━━━━━━\u001b[0m\u001b[37m\u001b[0m \u001b[1m1s\u001b[0m 5ms/step - accuracy: 0.7375 - auc: 0.7833 - loss: 0.5599 - val_accuracy: 0.7475 - val_auc: 0.7933 - val_loss: 0.5149\n",
            "Epoch 45/100\n",
            "\u001b[1m106/106\u001b[0m \u001b[32m━━━━━━━━━━━━━━━━━━━━\u001b[0m\u001b[37m\u001b[0m \u001b[1m1s\u001b[0m 4ms/step - accuracy: 0.7371 - auc: 0.7863 - loss: 0.5479 - val_accuracy: 0.7487 - val_auc: 0.7955 - val_loss: 0.5153\n",
            "Epoch 46/100\n",
            "\u001b[1m106/106\u001b[0m \u001b[32m━━━━━━━━━━━━━━━━━━━━\u001b[0m\u001b[37m\u001b[0m \u001b[1m1s\u001b[0m 5ms/step - accuracy: 0.7398 - auc: 0.7934 - loss: 0.5616 - val_accuracy: 0.7617 - val_auc: 0.7995 - val_loss: 0.5068\n",
            "Epoch 47/100\n",
            "\u001b[1m106/106\u001b[0m \u001b[32m━━━━━━━━━━━━━━━━━━━━\u001b[0m\u001b[37m\u001b[0m \u001b[1m1s\u001b[0m 4ms/step - accuracy: 0.7496 - auc: 0.8151 - loss: 0.5321 - val_accuracy: 0.7635 - val_auc: 0.8028 - val_loss: 0.5022\n",
            "Epoch 48/100\n",
            "\u001b[1m106/106\u001b[0m \u001b[32m━━━━━━━━━━━━━━━━━━━━\u001b[0m\u001b[37m\u001b[0m \u001b[1m1s\u001b[0m 4ms/step - accuracy: 0.7469 - auc: 0.7847 - loss: 0.5544 - val_accuracy: 0.7670 - val_auc: 0.8058 - val_loss: 0.5011\n",
            "Epoch 49/100\n",
            "\u001b[1m106/106\u001b[0m \u001b[32m━━━━━━━━━━━━━━━━━━━━\u001b[0m\u001b[37m\u001b[0m \u001b[1m1s\u001b[0m 5ms/step - accuracy: 0.7469 - auc: 0.7742 - loss: 0.5645 - val_accuracy: 0.7747 - val_auc: 0.8088 - val_loss: 0.4965\n",
            "Epoch 50/100\n",
            "\u001b[1m106/106\u001b[0m \u001b[32m━━━━━━━━━━━━━━━━━━━━\u001b[0m\u001b[37m\u001b[0m \u001b[1m0s\u001b[0m 4ms/step - accuracy: 0.7519 - auc: 0.8030 - loss: 0.5465 - val_accuracy: 0.7818 - val_auc: 0.8107 - val_loss: 0.4912\n",
            "Epoch 51/100\n",
            "\u001b[1m106/106\u001b[0m \u001b[32m━━━━━━━━━━━━━━━━━━━━\u001b[0m\u001b[37m\u001b[0m \u001b[1m1s\u001b[0m 4ms/step - accuracy: 0.7618 - auc: 0.8072 - loss: 0.5332 - val_accuracy: 0.7729 - val_auc: 0.8146 - val_loss: 0.5002\n",
            "Epoch 52/100\n",
            "\u001b[1m106/106\u001b[0m \u001b[32m━━━━━━━━━━━━━━━━━━━━\u001b[0m\u001b[37m\u001b[0m \u001b[1m1s\u001b[0m 4ms/step - accuracy: 0.7572 - auc: 0.8035 - loss: 0.5427 - val_accuracy: 0.7853 - val_auc: 0.8175 - val_loss: 0.4898\n",
            "Epoch 53/100\n",
            "\u001b[1m106/106\u001b[0m \u001b[32m━━━━━━━━━━━━━━━━━━━━\u001b[0m\u001b[37m\u001b[0m \u001b[1m1s\u001b[0m 5ms/step - accuracy: 0.7607 - auc: 0.8051 - loss: 0.5189 - val_accuracy: 0.7954 - val_auc: 0.8214 - val_loss: 0.4835\n",
            "Epoch 54/100\n",
            "\u001b[1m106/106\u001b[0m \u001b[32m━━━━━━━━━━━━━━━━━━━━\u001b[0m\u001b[37m\u001b[0m \u001b[1m1s\u001b[0m 7ms/step - accuracy: 0.7786 - auc: 0.8306 - loss: 0.5021 - val_accuracy: 0.8066 - val_auc: 0.8245 - val_loss: 0.4698\n",
            "Epoch 55/100\n",
            "\u001b[1m106/106\u001b[0m \u001b[32m━━━━━━━━━━━━━━━━━━━━\u001b[0m\u001b[37m\u001b[0m \u001b[1m1s\u001b[0m 7ms/step - accuracy: 0.7770 - auc: 0.8035 - loss: 0.5209 - val_accuracy: 0.8078 - val_auc: 0.8266 - val_loss: 0.4708\n",
            "Epoch 56/100\n",
            "\u001b[1m106/106\u001b[0m \u001b[32m━━━━━━━━━━━━━━━━━━━━\u001b[0m\u001b[37m\u001b[0m \u001b[1m1s\u001b[0m 7ms/step - accuracy: 0.7797 - auc: 0.8175 - loss: 0.5171 - val_accuracy: 0.8108 - val_auc: 0.8286 - val_loss: 0.4683\n",
            "Epoch 57/100\n",
            "\u001b[1m106/106\u001b[0m \u001b[32m━━━━━━━━━━━━━━━━━━━━\u001b[0m\u001b[37m\u001b[0m \u001b[1m1s\u001b[0m 4ms/step - accuracy: 0.7849 - auc: 0.8201 - loss: 0.5252 - val_accuracy: 0.8173 - val_auc: 0.8309 - val_loss: 0.4638\n",
            "Epoch 58/100\n",
            "\u001b[1m106/106\u001b[0m \u001b[32m━━━━━━━━━━━━━━━━━━━━\u001b[0m\u001b[37m\u001b[0m \u001b[1m1s\u001b[0m 4ms/step - accuracy: 0.7851 - auc: 0.8403 - loss: 0.4913 - val_accuracy: 0.8220 - val_auc: 0.8327 - val_loss: 0.4566\n",
            "Epoch 59/100\n",
            "\u001b[1m106/106\u001b[0m \u001b[32m━━━━━━━━━━━━━━━━━━━━\u001b[0m\u001b[37m\u001b[0m \u001b[1m1s\u001b[0m 5ms/step - accuracy: 0.7886 - auc: 0.8143 - loss: 0.5188 - val_accuracy: 0.8232 - val_auc: 0.8360 - val_loss: 0.4587\n",
            "Epoch 60/100\n",
            "\u001b[1m106/106\u001b[0m \u001b[32m━━━━━━━━━━━━━━━━━━━━\u001b[0m\u001b[37m\u001b[0m \u001b[1m1s\u001b[0m 9ms/step - accuracy: 0.7848 - auc: 0.8237 - loss: 0.4968 - val_accuracy: 0.8255 - val_auc: 0.8398 - val_loss: 0.4584\n",
            "Epoch 61/100\n",
            "\u001b[1m106/106\u001b[0m \u001b[32m━━━━━━━━━━━━━━━━━━━━\u001b[0m\u001b[37m\u001b[0m \u001b[1m1s\u001b[0m 5ms/step - accuracy: 0.7868 - auc: 0.8250 - loss: 0.5156 - val_accuracy: 0.8273 - val_auc: 0.8422 - val_loss: 0.4600\n",
            "Epoch 62/100\n",
            "\u001b[1m106/106\u001b[0m \u001b[32m━━━━━━━━━━━━━━━━━━━━\u001b[0m\u001b[37m\u001b[0m \u001b[1m1s\u001b[0m 5ms/step - accuracy: 0.7963 - auc: 0.8396 - loss: 0.4972 - val_accuracy: 0.8338 - val_auc: 0.8441 - val_loss: 0.4507\n",
            "Epoch 63/100\n",
            "\u001b[1m106/106\u001b[0m \u001b[32m━━━━━━━━━━━━━━━━━━━━\u001b[0m\u001b[37m\u001b[0m \u001b[1m1s\u001b[0m 4ms/step - accuracy: 0.8048 - auc: 0.8243 - loss: 0.4758 - val_accuracy: 0.8309 - val_auc: 0.8451 - val_loss: 0.4556\n",
            "Epoch 64/100\n",
            "\u001b[1m106/106\u001b[0m \u001b[32m━━━━━━━━━━━━━━━━━━━━\u001b[0m\u001b[37m\u001b[0m \u001b[1m1s\u001b[0m 4ms/step - accuracy: 0.8076 - auc: 0.8435 - loss: 0.4898 - val_accuracy: 0.8421 - val_auc: 0.8478 - val_loss: 0.4402\n",
            "Epoch 65/100\n",
            "\u001b[1m106/106\u001b[0m \u001b[32m━━━━━━━━━━━━━━━━━━━━\u001b[0m\u001b[37m\u001b[0m \u001b[1m1s\u001b[0m 4ms/step - accuracy: 0.8097 - auc: 0.8554 - loss: 0.4717 - val_accuracy: 0.8474 - val_auc: 0.8500 - val_loss: 0.4335\n",
            "Epoch 66/100\n",
            "\u001b[1m106/106\u001b[0m \u001b[32m━━━━━━━━━━━━━━━━━━━━\u001b[0m\u001b[37m\u001b[0m \u001b[1m1s\u001b[0m 5ms/step - accuracy: 0.7953 - auc: 0.8323 - loss: 0.5041 - val_accuracy: 0.8504 - val_auc: 0.8519 - val_loss: 0.4332\n",
            "Epoch 67/100\n",
            "\u001b[1m106/106\u001b[0m \u001b[32m━━━━━━━━━━━━━━━━━━━━\u001b[0m\u001b[37m\u001b[0m \u001b[1m1s\u001b[0m 4ms/step - accuracy: 0.8158 - auc: 0.8633 - loss: 0.4696 - val_accuracy: 0.8480 - val_auc: 0.8535 - val_loss: 0.4390\n",
            "Epoch 68/100\n",
            "\u001b[1m106/106\u001b[0m \u001b[32m━━━━━━━━━━━━━━━━━━━━\u001b[0m\u001b[37m\u001b[0m \u001b[1m1s\u001b[0m 4ms/step - accuracy: 0.8185 - auc: 0.8555 - loss: 0.4589 - val_accuracy: 0.8533 - val_auc: 0.8553 - val_loss: 0.4308\n",
            "Epoch 69/100\n",
            "\u001b[1m106/106\u001b[0m \u001b[32m━━━━━━━━━━━━━━━━━━━━\u001b[0m\u001b[37m\u001b[0m \u001b[1m1s\u001b[0m 5ms/step - accuracy: 0.8164 - auc: 0.8419 - loss: 0.4853 - val_accuracy: 0.8581 - val_auc: 0.8577 - val_loss: 0.4291\n",
            "Epoch 70/100\n",
            "\u001b[1m106/106\u001b[0m \u001b[32m━━━━━━━━━━━━━━━━━━━━\u001b[0m\u001b[37m\u001b[0m \u001b[1m0s\u001b[0m 4ms/step - accuracy: 0.8162 - auc: 0.8476 - loss: 0.4830 - val_accuracy: 0.8640 - val_auc: 0.8608 - val_loss: 0.4255\n",
            "Epoch 71/100\n",
            "\u001b[1m106/106\u001b[0m \u001b[32m━━━━━━━━━━━━━━━━━━━━\u001b[0m\u001b[37m\u001b[0m \u001b[1m1s\u001b[0m 7ms/step - accuracy: 0.8251 - auc: 0.8545 - loss: 0.4816 - val_accuracy: 0.8770 - val_auc: 0.8635 - val_loss: 0.4149\n",
            "Epoch 72/100\n",
            "\u001b[1m106/106\u001b[0m \u001b[32m━━━━━━━━━━━━━━━━━━━━\u001b[0m\u001b[37m\u001b[0m \u001b[1m1s\u001b[0m 7ms/step - accuracy: 0.8349 - auc: 0.8569 - loss: 0.4562 - val_accuracy: 0.8717 - val_auc: 0.8649 - val_loss: 0.4200\n",
            "Epoch 73/100\n",
            "\u001b[1m106/106\u001b[0m \u001b[32m━━━━━━━━━━━━━━━━━━━━\u001b[0m\u001b[37m\u001b[0m \u001b[1m1s\u001b[0m 7ms/step - accuracy: 0.8295 - auc: 0.8544 - loss: 0.4458 - val_accuracy: 0.8746 - val_auc: 0.8662 - val_loss: 0.4190\n",
            "Epoch 74/100\n",
            "\u001b[1m106/106\u001b[0m \u001b[32m━━━━━━━━━━━━━━━━━━━━\u001b[0m\u001b[37m\u001b[0m \u001b[1m1s\u001b[0m 4ms/step - accuracy: 0.8293 - auc: 0.8672 - loss: 0.4559 - val_accuracy: 0.8752 - val_auc: 0.8680 - val_loss: 0.4196\n",
            "Epoch 75/100\n",
            "\u001b[1m106/106\u001b[0m \u001b[32m━━━━━━━━━━━━━━━━━━━━\u001b[0m\u001b[37m\u001b[0m \u001b[1m1s\u001b[0m 4ms/step - accuracy: 0.8283 - auc: 0.8531 - loss: 0.4707 - val_accuracy: 0.8835 - val_auc: 0.8699 - val_loss: 0.4115\n",
            "Epoch 76/100\n",
            "\u001b[1m106/106\u001b[0m \u001b[32m━━━━━━━━━━━━━━━━━━━━\u001b[0m\u001b[37m\u001b[0m \u001b[1m1s\u001b[0m 4ms/step - accuracy: 0.8395 - auc: 0.8809 - loss: 0.4484 - val_accuracy: 0.8835 - val_auc: 0.8708 - val_loss: 0.4074\n",
            "Epoch 77/100\n",
            "\u001b[1m106/106\u001b[0m \u001b[32m━━━━━━━━━━━━━━━━━━━━\u001b[0m\u001b[37m\u001b[0m \u001b[1m1s\u001b[0m 4ms/step - accuracy: 0.8399 - auc: 0.8490 - loss: 0.4620 - val_accuracy: 0.8823 - val_auc: 0.8724 - val_loss: 0.4129\n",
            "Epoch 78/100\n",
            "\u001b[1m106/106\u001b[0m \u001b[32m━━━━━━━━━━━━━━━━━━━━\u001b[0m\u001b[37m\u001b[0m \u001b[1m1s\u001b[0m 5ms/step - accuracy: 0.8345 - auc: 0.8667 - loss: 0.4507 - val_accuracy: 0.8847 - val_auc: 0.8744 - val_loss: 0.4093\n",
            "Epoch 79/100\n",
            "\u001b[1m106/106\u001b[0m \u001b[32m━━━━━━━━━━━━━━━━━━━━\u001b[0m\u001b[37m\u001b[0m \u001b[1m0s\u001b[0m 4ms/step - accuracy: 0.8388 - auc: 0.8669 - loss: 0.4568 - val_accuracy: 0.8870 - val_auc: 0.8750 - val_loss: 0.4040\n",
            "Epoch 80/100\n",
            "\u001b[1m106/106\u001b[0m \u001b[32m━━━━━━━━━━━━━━━━━━━━\u001b[0m\u001b[37m\u001b[0m \u001b[1m1s\u001b[0m 4ms/step - accuracy: 0.8488 - auc: 0.8448 - loss: 0.4800 - val_accuracy: 0.8900 - val_auc: 0.8766 - val_loss: 0.3982\n",
            "Epoch 81/100\n",
            "\u001b[1m106/106\u001b[0m \u001b[32m━━━━━━━━━━━━━━━━━━━━\u001b[0m\u001b[37m\u001b[0m \u001b[1m1s\u001b[0m 4ms/step - accuracy: 0.8543 - auc: 0.8768 - loss: 0.4435 - val_accuracy: 0.8906 - val_auc: 0.8778 - val_loss: 0.3972\n",
            "Epoch 82/100\n",
            "\u001b[1m106/106\u001b[0m \u001b[32m━━━━━━━━━━━━━━━━━━━━\u001b[0m\u001b[37m\u001b[0m \u001b[1m1s\u001b[0m 4ms/step - accuracy: 0.8577 - auc: 0.8766 - loss: 0.4488 - val_accuracy: 0.8876 - val_auc: 0.8790 - val_loss: 0.4041\n",
            "Epoch 83/100\n",
            "\u001b[1m106/106\u001b[0m \u001b[32m━━━━━━━━━━━━━━━━━━━━\u001b[0m\u001b[37m\u001b[0m \u001b[1m1s\u001b[0m 5ms/step - accuracy: 0.8416 - auc: 0.8644 - loss: 0.4596 - val_accuracy: 0.8888 - val_auc: 0.8809 - val_loss: 0.4059\n",
            "Epoch 84/100\n",
            "\u001b[1m106/106\u001b[0m \u001b[32m━━━━━━━━━━━━━━━━━━━━\u001b[0m\u001b[37m\u001b[0m \u001b[1m1s\u001b[0m 4ms/step - accuracy: 0.8479 - auc: 0.8907 - loss: 0.4280 - val_accuracy: 0.8912 - val_auc: 0.8813 - val_loss: 0.3949\n",
            "Epoch 85/100\n",
            "\u001b[1m106/106\u001b[0m \u001b[32m━━━━━━━━━━━━━━━━━━━━\u001b[0m\u001b[37m\u001b[0m \u001b[1m1s\u001b[0m 7ms/step - accuracy: 0.8498 - auc: 0.8779 - loss: 0.4337 - val_accuracy: 0.8941 - val_auc: 0.8836 - val_loss: 0.3900\n",
            "Epoch 86/100\n",
            "\u001b[1m106/106\u001b[0m \u001b[32m━━━━━━━━━━━━━━━━━━━━\u001b[0m\u001b[37m\u001b[0m \u001b[1m1s\u001b[0m 4ms/step - accuracy: 0.8596 - auc: 0.8738 - loss: 0.4662 - val_accuracy: 0.8995 - val_auc: 0.8852 - val_loss: 0.3840\n",
            "Epoch 87/100\n",
            "\u001b[1m106/106\u001b[0m \u001b[32m━━━━━━━━━━━━━━━━━━━━\u001b[0m\u001b[37m\u001b[0m \u001b[1m1s\u001b[0m 5ms/step - accuracy: 0.8573 - auc: 0.8753 - loss: 0.4519 - val_accuracy: 0.8995 - val_auc: 0.8867 - val_loss: 0.3894\n",
            "Epoch 88/100\n",
            "\u001b[1m106/106\u001b[0m \u001b[32m━━━━━━━━━━━━━━━━━━━━\u001b[0m\u001b[37m\u001b[0m \u001b[1m1s\u001b[0m 5ms/step - accuracy: 0.8600 - auc: 0.8716 - loss: 0.4565 - val_accuracy: 0.8977 - val_auc: 0.8869 - val_loss: 0.3915\n",
            "Epoch 89/100\n",
            "\u001b[1m106/106\u001b[0m \u001b[32m━━━━━━━━━━━━━━━━━━━━\u001b[0m\u001b[37m\u001b[0m \u001b[1m1s\u001b[0m 6ms/step - accuracy: 0.8588 - auc: 0.8891 - loss: 0.4231 - val_accuracy: 0.8995 - val_auc: 0.8879 - val_loss: 0.3873\n",
            "Epoch 90/100\n",
            "\u001b[1m106/106\u001b[0m \u001b[32m━━━━━━━━━━━━━━━━━━━━\u001b[0m\u001b[37m\u001b[0m \u001b[1m1s\u001b[0m 7ms/step - accuracy: 0.8558 - auc: 0.8830 - loss: 0.4370 - val_accuracy: 0.9054 - val_auc: 0.8900 - val_loss: 0.3789\n",
            "Epoch 91/100\n",
            "\u001b[1m106/106\u001b[0m \u001b[32m━━━━━━━━━━━━━━━━━━━━\u001b[0m\u001b[37m\u001b[0m \u001b[1m1s\u001b[0m 7ms/step - accuracy: 0.8684 - auc: 0.8958 - loss: 0.4209 - val_accuracy: 0.9066 - val_auc: 0.8917 - val_loss: 0.3726\n",
            "Epoch 92/100\n",
            "\u001b[1m106/106\u001b[0m \u001b[32m━━━━━━━━━━━━━━━━━━━━\u001b[0m\u001b[37m\u001b[0m \u001b[1m1s\u001b[0m 4ms/step - accuracy: 0.8816 - auc: 0.8889 - loss: 0.4245 - val_accuracy: 0.8953 - val_auc: 0.8921 - val_loss: 0.3873\n",
            "Epoch 93/100\n",
            "\u001b[1m106/106\u001b[0m \u001b[32m━━━━━━━━━━━━━━━━━━━━\u001b[0m\u001b[37m\u001b[0m \u001b[1m1s\u001b[0m 4ms/step - accuracy: 0.8692 - auc: 0.8776 - loss: 0.4436 - val_accuracy: 0.9012 - val_auc: 0.8936 - val_loss: 0.3811\n",
            "Epoch 94/100\n",
            "\u001b[1m106/106\u001b[0m \u001b[32m━━━━━━━━━━━━━━━━━━━━\u001b[0m\u001b[37m\u001b[0m \u001b[1m1s\u001b[0m 4ms/step - accuracy: 0.8673 - auc: 0.8905 - loss: 0.4248 - val_accuracy: 0.9030 - val_auc: 0.8947 - val_loss: 0.3770\n",
            "Epoch 95/100\n",
            "\u001b[1m106/106\u001b[0m \u001b[32m━━━━━━━━━━━━━━━━━━━━\u001b[0m\u001b[37m\u001b[0m \u001b[1m1s\u001b[0m 4ms/step - accuracy: 0.8803 - auc: 0.9024 - loss: 0.4058 - val_accuracy: 0.9042 - val_auc: 0.8952 - val_loss: 0.3731\n",
            "Epoch 96/100\n",
            "\u001b[1m106/106\u001b[0m \u001b[32m━━━━━━━━━━━━━━━━━━━━\u001b[0m\u001b[37m\u001b[0m \u001b[1m1s\u001b[0m 4ms/step - accuracy: 0.8801 - auc: 0.9118 - loss: 0.4088 - val_accuracy: 0.9054 - val_auc: 0.8962 - val_loss: 0.3708\n",
            "Epoch 97/100\n",
            "\u001b[1m106/106\u001b[0m \u001b[32m━━━━━━━━━━━━━━━━━━━━\u001b[0m\u001b[37m\u001b[0m \u001b[1m0s\u001b[0m 4ms/step - accuracy: 0.8712 - auc: 0.8676 - loss: 0.4315 - val_accuracy: 0.9060 - val_auc: 0.8971 - val_loss: 0.3698\n",
            "Epoch 98/100\n",
            "\u001b[1m106/106\u001b[0m \u001b[32m━━━━━━━━━━━━━━━━━━━━\u001b[0m\u001b[37m\u001b[0m \u001b[1m1s\u001b[0m 4ms/step - accuracy: 0.8746 - auc: 0.8948 - loss: 0.4137 - val_accuracy: 0.9054 - val_auc: 0.8989 - val_loss: 0.3732\n",
            "Epoch 99/100\n",
            "\u001b[1m106/106\u001b[0m \u001b[32m━━━━━━━━━━━━━━━━━━━━\u001b[0m\u001b[37m\u001b[0m \u001b[1m1s\u001b[0m 4ms/step - accuracy: 0.8819 - auc: 0.8991 - loss: 0.4215 - val_accuracy: 0.9083 - val_auc: 0.9000 - val_loss: 0.3657\n",
            "Epoch 100/100\n",
            "\u001b[1m106/106\u001b[0m \u001b[32m━━━━━━━━━━━━━━━━━━━━\u001b[0m\u001b[37m\u001b[0m \u001b[1m1s\u001b[0m 4ms/step - accuracy: 0.8859 - auc: 0.8991 - loss: 0.4109 - val_accuracy: 0.9060 - val_auc: 0.9001 - val_loss: 0.3685\n",
            "Model training complete.\n"
          ]
        }
      ]
    },
    {
      "cell_type": "code",
      "source": [
        "model.summary() # Print model architecture"
      ],
      "metadata": {
        "id": "JVoCA5j00jXa",
        "colab": {
          "base_uri": "https://localhost:8080/",
          "height": 337
        },
        "outputId": "922f294e-4ade-4e3b-ca8b-40a8f70c97ec"
      },
      "execution_count": null,
      "outputs": [
        {
          "output_type": "display_data",
          "data": {
            "text/plain": [
              "\u001b[1mModel: \"sequential_1\"\u001b[0m\n"
            ],
            "text/html": [
              "<pre style=\"white-space:pre;overflow-x:auto;line-height:normal;font-family:Menlo,'DejaVu Sans Mono',consolas,'Courier New',monospace\"><span style=\"font-weight: bold\">Model: \"sequential_1\"</span>\n",
              "</pre>\n"
            ]
          },
          "metadata": {}
        },
        {
          "output_type": "display_data",
          "data": {
            "text/plain": [
              "┏━━━━━━━━━━━━━━━━━━━━━━━━━━━━━━━━━┳━━━━━━━━━━━━━━━━━━━━━━━━┳━━━━━━━━━━━━━━━┓\n",
              "┃\u001b[1m \u001b[0m\u001b[1mLayer (type)                   \u001b[0m\u001b[1m \u001b[0m┃\u001b[1m \u001b[0m\u001b[1mOutput Shape          \u001b[0m\u001b[1m \u001b[0m┃\u001b[1m \u001b[0m\u001b[1m      Param #\u001b[0m\u001b[1m \u001b[0m┃\n",
              "┡━━━━━━━━━━━━━━━━━━━━━━━━━━━━━━━━━╇━━━━━━━━━━━━━━━━━━━━━━━━╇━━━━━━━━━━━━━━━┩\n",
              "│ dense_4 (\u001b[38;5;33mDense\u001b[0m)                 │ (\u001b[38;5;45mNone\u001b[0m, \u001b[38;5;34m32\u001b[0m)             │           \u001b[38;5;34m448\u001b[0m │\n",
              "├─────────────────────────────────┼────────────────────────┼───────────────┤\n",
              "│ dropout_2 (\u001b[38;5;33mDropout\u001b[0m)             │ (\u001b[38;5;45mNone\u001b[0m, \u001b[38;5;34m32\u001b[0m)             │             \u001b[38;5;34m0\u001b[0m │\n",
              "├─────────────────────────────────┼────────────────────────┼───────────────┤\n",
              "│ dense_5 (\u001b[38;5;33mDense\u001b[0m)                 │ (\u001b[38;5;45mNone\u001b[0m, \u001b[38;5;34m64\u001b[0m)             │         \u001b[38;5;34m2,112\u001b[0m │\n",
              "├─────────────────────────────────┼────────────────────────┼───────────────┤\n",
              "│ dropout_3 (\u001b[38;5;33mDropout\u001b[0m)             │ (\u001b[38;5;45mNone\u001b[0m, \u001b[38;5;34m64\u001b[0m)             │             \u001b[38;5;34m0\u001b[0m │\n",
              "├─────────────────────────────────┼────────────────────────┼───────────────┤\n",
              "│ dense_6 (\u001b[38;5;33mDense\u001b[0m)                 │ (\u001b[38;5;45mNone\u001b[0m, \u001b[38;5;34m32\u001b[0m)             │         \u001b[38;5;34m2,080\u001b[0m │\n",
              "├─────────────────────────────────┼────────────────────────┼───────────────┤\n",
              "│ dense_7 (\u001b[38;5;33mDense\u001b[0m)                 │ (\u001b[38;5;45mNone\u001b[0m, \u001b[38;5;34m1\u001b[0m)              │            \u001b[38;5;34m33\u001b[0m │\n",
              "└─────────────────────────────────┴────────────────────────┴───────────────┘\n"
            ],
            "text/html": [
              "<pre style=\"white-space:pre;overflow-x:auto;line-height:normal;font-family:Menlo,'DejaVu Sans Mono',consolas,'Courier New',monospace\">┏━━━━━━━━━━━━━━━━━━━━━━━━━━━━━━━━━┳━━━━━━━━━━━━━━━━━━━━━━━━┳━━━━━━━━━━━━━━━┓\n",
              "┃<span style=\"font-weight: bold\"> Layer (type)                    </span>┃<span style=\"font-weight: bold\"> Output Shape           </span>┃<span style=\"font-weight: bold\">       Param # </span>┃\n",
              "┡━━━━━━━━━━━━━━━━━━━━━━━━━━━━━━━━━╇━━━━━━━━━━━━━━━━━━━━━━━━╇━━━━━━━━━━━━━━━┩\n",
              "│ dense_4 (<span style=\"color: #0087ff; text-decoration-color: #0087ff\">Dense</span>)                 │ (<span style=\"color: #00d7ff; text-decoration-color: #00d7ff\">None</span>, <span style=\"color: #00af00; text-decoration-color: #00af00\">32</span>)             │           <span style=\"color: #00af00; text-decoration-color: #00af00\">448</span> │\n",
              "├─────────────────────────────────┼────────────────────────┼───────────────┤\n",
              "│ dropout_2 (<span style=\"color: #0087ff; text-decoration-color: #0087ff\">Dropout</span>)             │ (<span style=\"color: #00d7ff; text-decoration-color: #00d7ff\">None</span>, <span style=\"color: #00af00; text-decoration-color: #00af00\">32</span>)             │             <span style=\"color: #00af00; text-decoration-color: #00af00\">0</span> │\n",
              "├─────────────────────────────────┼────────────────────────┼───────────────┤\n",
              "│ dense_5 (<span style=\"color: #0087ff; text-decoration-color: #0087ff\">Dense</span>)                 │ (<span style=\"color: #00d7ff; text-decoration-color: #00d7ff\">None</span>, <span style=\"color: #00af00; text-decoration-color: #00af00\">64</span>)             │         <span style=\"color: #00af00; text-decoration-color: #00af00\">2,112</span> │\n",
              "├─────────────────────────────────┼────────────────────────┼───────────────┤\n",
              "│ dropout_3 (<span style=\"color: #0087ff; text-decoration-color: #0087ff\">Dropout</span>)             │ (<span style=\"color: #00d7ff; text-decoration-color: #00d7ff\">None</span>, <span style=\"color: #00af00; text-decoration-color: #00af00\">64</span>)             │             <span style=\"color: #00af00; text-decoration-color: #00af00\">0</span> │\n",
              "├─────────────────────────────────┼────────────────────────┼───────────────┤\n",
              "│ dense_6 (<span style=\"color: #0087ff; text-decoration-color: #0087ff\">Dense</span>)                 │ (<span style=\"color: #00d7ff; text-decoration-color: #00d7ff\">None</span>, <span style=\"color: #00af00; text-decoration-color: #00af00\">32</span>)             │         <span style=\"color: #00af00; text-decoration-color: #00af00\">2,080</span> │\n",
              "├─────────────────────────────────┼────────────────────────┼───────────────┤\n",
              "│ dense_7 (<span style=\"color: #0087ff; text-decoration-color: #0087ff\">Dense</span>)                 │ (<span style=\"color: #00d7ff; text-decoration-color: #00d7ff\">None</span>, <span style=\"color: #00af00; text-decoration-color: #00af00\">1</span>)              │            <span style=\"color: #00af00; text-decoration-color: #00af00\">33</span> │\n",
              "└─────────────────────────────────┴────────────────────────┴───────────────┘\n",
              "</pre>\n"
            ]
          },
          "metadata": {}
        },
        {
          "output_type": "display_data",
          "data": {
            "text/plain": [
              "\u001b[1m Total params: \u001b[0m\u001b[38;5;34m14,021\u001b[0m (54.77 KB)\n"
            ],
            "text/html": [
              "<pre style=\"white-space:pre;overflow-x:auto;line-height:normal;font-family:Menlo,'DejaVu Sans Mono',consolas,'Courier New',monospace\"><span style=\"font-weight: bold\"> Total params: </span><span style=\"color: #00af00; text-decoration-color: #00af00\">14,021</span> (54.77 KB)\n",
              "</pre>\n"
            ]
          },
          "metadata": {}
        },
        {
          "output_type": "display_data",
          "data": {
            "text/plain": [
              "\u001b[1m Trainable params: \u001b[0m\u001b[38;5;34m4,673\u001b[0m (18.25 KB)\n"
            ],
            "text/html": [
              "<pre style=\"white-space:pre;overflow-x:auto;line-height:normal;font-family:Menlo,'DejaVu Sans Mono',consolas,'Courier New',monospace\"><span style=\"font-weight: bold\"> Trainable params: </span><span style=\"color: #00af00; text-decoration-color: #00af00\">4,673</span> (18.25 KB)\n",
              "</pre>\n"
            ]
          },
          "metadata": {}
        },
        {
          "output_type": "display_data",
          "data": {
            "text/plain": [
              "\u001b[1m Non-trainable params: \u001b[0m\u001b[38;5;34m0\u001b[0m (0.00 B)\n"
            ],
            "text/html": [
              "<pre style=\"white-space:pre;overflow-x:auto;line-height:normal;font-family:Menlo,'DejaVu Sans Mono',consolas,'Courier New',monospace\"><span style=\"font-weight: bold\"> Non-trainable params: </span><span style=\"color: #00af00; text-decoration-color: #00af00\">0</span> (0.00 B)\n",
              "</pre>\n"
            ]
          },
          "metadata": {}
        },
        {
          "output_type": "display_data",
          "data": {
            "text/plain": [
              "\u001b[1m Optimizer params: \u001b[0m\u001b[38;5;34m9,348\u001b[0m (36.52 KB)\n"
            ],
            "text/html": [
              "<pre style=\"white-space:pre;overflow-x:auto;line-height:normal;font-family:Menlo,'DejaVu Sans Mono',consolas,'Courier New',monospace\"><span style=\"font-weight: bold\"> Optimizer params: </span><span style=\"color: #00af00; text-decoration-color: #00af00\">9,348</span> (36.52 KB)\n",
              "</pre>\n"
            ]
          },
          "metadata": {}
        }
      ]
    },
    {
      "cell_type": "markdown",
      "source": [
        "## Model Evaluation"
      ],
      "metadata": {
        "id": "t9M0b6HwmxXp"
      }
    },
    {
      "cell_type": "code",
      "source": [
        "# --- 6. Model Evaluation ---\n",
        "print(\"\\nEvaluating the model on the test set...\")\n",
        "loss, accuracy, auc = model.evaluate(X_test_scaled, y_test, verbose=0)\n",
        "print(f\"Test Loss: {loss:.4f}\")\n",
        "print(f\"Test Accuracy: {accuracy:.4f}\")\n",
        "print(f\"Test AUC: {auc:.4f}\")\n",
        "\n",
        "# Make predictions (probabilities)\n",
        "y_pred_proba = model.predict(X_test_scaled).ravel() # .ravel() to make it a 1D array\n",
        "\n",
        "# Convert probabilities to class labels (0 or 1) using a 0.5 threshold\n",
        "y_pred_classes = (y_pred_proba > 0.5).astype(int)\n",
        "\n",
        "# Confusion Matrix\n",
        "print(\"\\nConfusion Matrix:\")\n",
        "cm = confusion_matrix(y_test, y_pred_classes)\n",
        "print(cm)\n",
        "\n",
        "# Classification Report\n",
        "print(\"\\nClassification Report:\")\n",
        "# Ensure target_names are correctly mapped if your y_test is 0/1\n",
        "# For example, if 0 is 'success' and 1 is 'failed'\n",
        "target_names = [f'Class {NEGATIVE_CLASS_LABEL} (e.g. Failed)', f'Class {POSITIVE_CLASS_LABEL} (e.g. Success)']\n",
        "# If you have specific string names for your classes, use them:\n",
        "# target_names = ['Success', 'Failed'] # Make sure order matches 0 and 1\n",
        "print(classification_report(y_test, y_pred_classes, target_names=target_names))\n",
        "\n",
        "# Balanced Accuracy\n",
        "bal_acc = balanced_accuracy_score(y_test, y_pred_classes)\n",
        "print(f\"Balanced Accuracy: {bal_acc:.4f}\")\n",
        "\n",
        "# AUC-ROC (already calculated by model.evaluate if using tf.keras.metrics.AUC)\n",
        "# Can also be calculated explicitly from probabilities\n",
        "roc_auc = roc_auc_score(y_test, y_pred_proba)\n",
        "print(f\"AUC-ROC (from probabilities): {roc_auc:.4f}\")"
      ],
      "metadata": {
        "id": "YHDkLq-emw2o",
        "colab": {
          "base_uri": "https://localhost:8080/"
        },
        "outputId": "18ee9ea2-c62d-483b-c232-0911eebd2bf0"
      },
      "execution_count": null,
      "outputs": [
        {
          "output_type": "stream",
          "name": "stdout",
          "text": [
            "\n",
            "Evaluating the model on the test set...\n",
            "Test Loss: 0.3613\n",
            "Test Accuracy: 0.9210\n",
            "Test AUC: 0.9262\n",
            "\u001b[1m67/67\u001b[0m \u001b[32m━━━━━━━━━━━━━━━━━━━━\u001b[0m\u001b[37m\u001b[0m \u001b[1m0s\u001b[0m 2ms/step\n",
            "\n",
            "Confusion Matrix:\n",
            "[[ 144   39]\n",
            " [ 128 1803]]\n",
            "\n",
            "Classification Report:\n",
            "                        precision    recall  f1-score   support\n",
            "\n",
            " Class 0 (e.g. Failed)       0.53      0.79      0.63       183\n",
            "Class 1 (e.g. Success)       0.98      0.93      0.96      1931\n",
            "\n",
            "              accuracy                           0.92      2114\n",
            "             macro avg       0.75      0.86      0.79      2114\n",
            "          weighted avg       0.94      0.92      0.93      2114\n",
            "\n",
            "Balanced Accuracy: 0.8603\n",
            "AUC-ROC (from probabilities): 0.9265\n"
          ]
        }
      ]
    },
    {
      "cell_type": "markdown",
      "source": [
        "## Youden's Index"
      ],
      "metadata": {
        "id": "-DSJaI2ZmqDs"
      }
    },
    {
      "cell_type": "code",
      "source": [
        "# --- 7. Calculate Youden's Index ---\n",
        "# TN = cm[0, 0] (True Negatives - Correctly predicted as NEGATIVE_CLASS_LABEL)\n",
        "# FP = cm[0, 1] (False Positives - Incorrectly predicted as POSITIVE_CLASS_LABEL when actually NEGATIVE_CLASS_LABEL)\n",
        "# FN = cm[1, 0] (False Negatives - Incorrectly predicted as NEGATIVE_CLASS_LABEL when actually POSITIVE_CLASS_LABEL)\n",
        "# TP = cm[1, 1] (True Positives - Correctly predicted as POSITIVE_CLASS_LABEL)\n",
        "\n",
        "# This assumes that the confusion matrix `cm` is structured such that:\n",
        "# Row 0 / Column 0 corresponds to the NEGATIVE_CLASS_LABEL (e.g., 0)\n",
        "# Row 1 / Column 1 corresponds to the POSITIVE_CLASS_LABEL (e.g., 1)\n",
        "# This is the standard for scikit-learn's confusion_matrix if labels are [0, 1]\n",
        "\n",
        "if cm.shape == (2,2): # Ensure it's a 2x2 matrix\n",
        "    TN, FP, FN, TP = cm.ravel() if len(np.unique(y_test)) == 2 else (cm[0,0], cm[0,1], cm[1,0], cm[1,1])\n",
        "\n",
        "    # Sensitivity (True Positive Rate or Recall for the positive class)\n",
        "    if (TP + FN) == 0:\n",
        "        sensitivity = 0.0\n",
        "        print(\"Warning: Denominator for sensitivity (TP + FN) is zero.\")\n",
        "    else:\n",
        "        sensitivity = TP / (TP + FN)\n",
        "\n",
        "    # Specificity (True Negative Rate)\n",
        "    if (TN + FP) == 0:\n",
        "        specificity = 0.0\n",
        "        print(\"Warning: Denominator for specificity (TN + FP) is zero.\")\n",
        "    else:\n",
        "        specificity = TN / (TN + FP)\n",
        "\n",
        "    youden_index = sensitivity + specificity - 1\n",
        "\n",
        "    print(f\"\\nSensitivity (Recall for Class {POSITIVE_CLASS_LABEL}): {sensitivity:.4f}\")\n",
        "    print(f\"Specificity (for Class {NEGATIVE_CLASS_LABEL}): {specificity:.4f}\")\n",
        "    print(f\"Youden's Index: {youden_index:.4f}\")\n",
        "else:\n",
        "    print(\"\\nCould not calculate Youden's Index because the confusion matrix is not 2x2 (binary).\")\n",
        "    print(\"This might happen if your target variable had more than two classes after preprocessing.\")"
      ],
      "metadata": {
        "id": "33OYapULmpWU",
        "colab": {
          "base_uri": "https://localhost:8080/"
        },
        "outputId": "a2a43503-0f63-4944-aaf6-74a30747ff37"
      },
      "execution_count": null,
      "outputs": [
        {
          "output_type": "stream",
          "name": "stdout",
          "text": [
            "\n",
            "Sensitivity (Recall for Class 1): 0.9337\n",
            "Specificity (for Class 0): 0.7869\n",
            "Youden's Index: 0.7206\n"
          ]
        }
      ]
    },
    {
      "cell_type": "code",
      "source": [
        "from sklearn.metrics import f1_score\n",
        "print(f1_score(y_test, y_pred_classes))"
      ],
      "metadata": {
        "id": "ab5Vru6owmyX",
        "colab": {
          "base_uri": "https://localhost:8080/"
        },
        "outputId": "ba6204cf-dbdb-4a16-8251-909a89dd7bc6"
      },
      "execution_count": null,
      "outputs": [
        {
          "output_type": "stream",
          "name": "stdout",
          "text": [
            "0.9557381394116088\n"
          ]
        }
      ]
    },
    {
      "cell_type": "markdown",
      "source": [
        "## Plot training history"
      ],
      "metadata": {
        "id": "pQNDfATQmkkZ"
      }
    },
    {
      "cell_type": "code",
      "source": [
        "# --- Optional: Plot training history (Accuracy and Loss) ---\n",
        "import matplotlib.pyplot as plt\n",
        "\n",
        "def plot_history(history):\n",
        "    # Plot training & validation accuracy values\n",
        "    plt.figure(figsize=(12, 4))\n",
        "    plt.subplot(1, 2, 1)\n",
        "    if 'accuracy' in history.history and 'val_accuracy' in history.history:\n",
        "        plt.plot(history.history['accuracy'])\n",
        "        plt.plot(history.history['val_accuracy'])\n",
        "        plt.title('Model Accuracy')\n",
        "        plt.ylabel('Accuracy')\n",
        "        plt.xlabel('Epoch')\n",
        "        plt.legend(['Train', 'Validation'], loc='upper left')\n",
        "    else:\n",
        "        print(\"Accuracy metrics not found in history.\")\n",
        "\n",
        "    # Plot training & validation loss values\n",
        "    plt.subplot(1, 2, 2)\n",
        "    if 'loss' in history.history and 'val_loss' in history.history:\n",
        "        plt.plot(history.history['loss'])\n",
        "        plt.plot(history.history['val_loss'])\n",
        "        plt.title('Model Loss')\n",
        "        plt.ylabel('Loss')\n",
        "        plt.xlabel('Epoch')\n",
        "        plt.legend(['Train', 'Validation'], loc='upper left')\n",
        "    else:\n",
        "        print(\"Loss metrics not found in history.\")\n",
        "    plt.tight_layout()\n",
        "    plt.show()\n",
        "\n",
        "# Check if running in an environment that supports plotting (like Colab)\n",
        "try:\n",
        "    plot_history(history)\n",
        "except NameError: # If matplotlib is not imported or history object is not defined\n",
        "    print(\"\\nPlotting library (matplotlib) not available or history object missing. Skipping plots.\")\n",
        "except Exception as e:\n",
        "    print(f\"\\nCould not generate plots: {e}\")"
      ],
      "metadata": {
        "id": "tGUTMY46miys",
        "colab": {
          "base_uri": "https://localhost:8080/",
          "height": 407
        },
        "outputId": "3c97eae5-b778-4afc-da16-8bfc2ed00c32"
      },
      "execution_count": null,
      "outputs": [
        {
          "output_type": "display_data",
          "data": {
            "text/plain": [
              "<Figure size 1200x400 with 2 Axes>"
            ],
            "image/png": "[encoded data removed]"
          },
          "metadata": {}
        }
      ]
    },
    {
      "cell_type": "code",
      "source": [
        "import matplotlib.pyplot as plt\n",
        "from sklearn.metrics import roc_curve, auc\n",
        "\n",
        "# Assuming y_pred_proba_balanced is available from previous code\n",
        "# If not, uncomment the following lines to compute the predicted probabilities\n",
        "# y_pred_proba_balanced = svm_classifier_balanced.predict_proba(X_test)[:, 1]\n",
        "\n",
        "fpr, tpr, thresholds = roc_curve(y_test, y_pred_proba)\n",
        "roc_auc = auc(fpr, tpr)\n",
        "\n",
        "plt.figure()\n",
        "plt.plot(fpr, tpr, color='darkorange', lw=2, label='ROC curve (area = %0.2f)' % roc_auc)\n",
        "plt.plot([0, 1], [0, 1], color='navy', lw=2, linestyle='--')\n",
        "plt.xlim([0.0, 1.0])\n",
        "plt.ylim([0.0, 1.05])\n",
        "plt.xlabel('False Positive Rate')\n",
        "plt.ylabel('True Positive Rate')\n",
        "plt.title('Receiver Operating Characteristic')\n",
        "plt.legend(loc=\"lower right\")\n",
        "plt.show()"
      ],
      "metadata": {
        "id": "MfiN9TTRx3kG",
        "colab": {
          "base_uri": "https://localhost:8080/",
          "height": 472
        },
        "outputId": "a6108478-5e04-4a5a-c2e2-5918d393cf4a"
      },
      "execution_count": null,
      "outputs": [
        {
          "output_type": "display_data",
          "data": {
            "text/plain": [
              "<Figure size 640x480 with 1 Axes>"
            ],
            "image/png": "[encoded data removed]"
          },
          "metadata": {}
        }
      ]
    },
    {
      "cell_type": "code",
      "source": [
        "# save model pt file\n",
        "import pickle\n",
        "import keras\n",
        "with open('/content/drive/MyDrive/medical-data/data/model_multi/NN/NN_classifier_balanced.pkl', 'wb') as file:\n",
        "    pickle.dump(model, file)\n",
        "# save the model h5 file\n",
        "model.save('/content/drive/MyDrive/medical-data/data/model_multi/NN/NN_classifier_balanced.keras')"
      ],
      "metadata": {
        "id": "x4TZWxc6qUYq"
      },
      "execution_count": null,
      "outputs": []
    },
    {
      "cell_type": "code",
      "source": [
        "np.savetxt('/content/drive/MyDrive/medical-data/data/model_multi/NN/y_test_NN.csv', y_test, delimiter=',')\n",
        "np.savetxt('/content/drive/MyDrive/medical-data/data/model_multi/NN/y_pred_proba_NN.csv', y_pred_proba, delimiter=',')\n",
        "np.savetxt('/content/drive/MyDrive/medical-data/data/model_multi/NN/X_train_NN.csv', X_train, delimiter=',')\n",
        "np.savetxt('/content/drive/MyDrive/medical-data/data/model_multi/NN/X_test_NN.csv', X_test, delimiter=',')"
      ],
      "metadata": {
        "id": "gEGAJncjyAkW"
      },
      "execution_count": null,
      "outputs": []
    },
    {
      "cell_type": "markdown",
      "source": [
        "# KNN\n"
      ],
      "metadata": {
        "id": "vYUl4UfSpLUd"
      }
    },
    {
      "cell_type": "code",
      "source": [
        "import pandas as pd\n",
        "import numpy as np\n",
        "from sklearn.model_selection import train_test_split, GridSearchCV\n",
        "from sklearn.preprocessing import StandardScaler\n",
        "from sklearn.neighbors import KNeighborsClassifier\n",
        "from sklearn.metrics import classification_report, confusion_matrix, balanced_accuracy_score, roc_auc_score\n",
        "import matplotlib.pyplot as plt"
      ],
      "metadata": {
        "id": "MRzcD_RVpNnt"
      },
      "execution_count": null,
      "outputs": []
    },
    {
      "cell_type": "markdown",
      "source": [
        "## Configuration & Data Loading"
      ],
      "metadata": {
        "id": "Fuv1dMeopRgF"
      }
    },
    {
      "cell_type": "code",
      "source": [
        "FILE_PATH = '/content/drive/MyDrive/medical-data/data/preped/features_multivariate.csv' # Make sure this path is correct\n",
        "TARGET_VARIABLE = 'outcome' # The column name of your target variable\n",
        "POSITIVE_CLASS_LABEL = 1 # Assuming 1 is the positive class (e.g., 'failed' or 'event occurred')\n",
        "NEGATIVE_CLASS_LABEL = 0 # Assuming 0 is the negative class\n",
        "\n",
        "# Load your data\n",
        "try:\n",
        "    features_prep_df = pd.read_csv(FILE_PATH)\n",
        "    print(\"Data loaded successfully.\")\n",
        "except FileNotFoundError:\n",
        "    print(f\"Error: The file was not found at {FILE_PATH}\")\n",
        "    print(\"Please ensure the file path is correct and the data is accessible.\")\n",
        "    exit()\n",
        "\n",
        "# Drop the 'stay_id' column if it exists and is not needed for modeling\n",
        "if 'stay_id' in features_prep_df.columns:\n",
        "    features_prep_df = features_prep_df.drop('stay_id', axis=1)\n",
        "    print(\"Dropped 'stay_id' column.\")"
      ],
      "metadata": {
        "id": "Rxk6GjbApP5G",
        "colab": {
          "base_uri": "https://localhost:8080/"
        },
        "outputId": "e817c129-f0fb-4282-ce88-ba9ddb4452ef"
      },
      "execution_count": null,
      "outputs": [
        {
          "output_type": "stream",
          "name": "stdout",
          "text": [
            "Data loaded successfully.\n"
          ]
        }
      ]
    },
    {
      "cell_type": "markdown",
      "source": [
        "## Data Preparation"
      ],
      "metadata": {
        "id": "k5229QSupXqt"
      }
    },
    {
      "cell_type": "code",
      "source": [
        "if TARGET_VARIABLE not in features_prep_df.columns:\n",
        "    print(f\"Error: Target variable '{TARGET_VARIABLE}' not found in the DataFrame columns: {features_prep_df.columns.tolist()}\")\n",
        "    exit()\n",
        "\n",
        "X = features_prep_df.drop(TARGET_VARIABLE, axis=1)\n",
        "y = features_prep_df[TARGET_VARIABLE]\n",
        "\n",
        "# Ensure target variable is numerically encoded (e.g., 0 and 1)\n",
        "# This example assumes y is already 0s and 1s.\n",
        "if not pd.api.types.is_numeric_dtype(y):\n",
        "    print(f\"Warning: Target variable '{TARGET_VARIABLE}' is not numeric. Attempting to map common string labels.\")\n",
        "    unique_labels = y.unique()\n",
        "    if len(unique_labels) == 2:\n",
        "        label_map = {}\n",
        "        # Add more sophisticated mapping if necessary based on your actual labels\n",
        "        if 'failed' in unique_labels and 'success' in unique_labels:\n",
        "            label_map = {'failed': POSITIVE_CLASS_LABEL, 'success': NEGATIVE_CLASS_LABEL}\n",
        "        elif 'yes' in unique_labels and 'no' in unique_labels:\n",
        "            label_map = {'yes': POSITIVE_CLASS_LABEL, 'no': NEGATIVE_CLASS_LABEL}\n",
        "\n",
        "        if label_map:\n",
        "            print(f\"Mapping labels: {label_map}\")\n",
        "            y = y.map(label_map)\n",
        "            if y.isnull().any():\n",
        "                print(\"Error: Null values found in target variable after mapping. Please check your labels.\")\n",
        "                exit()\n",
        "        else:\n",
        "            print(\"Error: Could not automatically map non-numeric target labels. Please encode them manually to 0 and 1.\")\n",
        "            exit()\n",
        "    else:\n",
        "        print(\"Error: Target variable must be binary (have exactly two unique classes) for this classifier.\")\n",
        "        exit()\n",
        "\n",
        "# Stratify the split to ensure similar class proportions in train and test sets\n",
        "X_train, X_test, y_train, y_test = train_test_split(X, y, test_size=0.2, random_state=42, stratify=y)\n",
        "print(f\"Training set shape: X_train: {X_train.shape}, y_train: {y_train.shape}\")\n",
        "print(f\"Test set shape: X_test: {X_test.shape}, y_test: {y_test.shape}\")\n"
      ],
      "metadata": {
        "id": "FDk_QbCTpZfd",
        "colab": {
          "base_uri": "https://localhost:8080/"
        },
        "outputId": "19b17fac-3758-419d-ff97-192a040f87d8"
      },
      "execution_count": null,
      "outputs": [
        {
          "output_type": "stream",
          "name": "stdout",
          "text": [
            "Training set shape: X_train: (8453, 13), y_train: (8453,)\n",
            "Test set shape: X_test: (2114, 13), y_test: (2114,)\n"
          ]
        }
      ]
    },
    {
      "cell_type": "code",
      "source": [
        "# Feature Scaling: KNN is very sensitive to feature scaling.\n",
        "scaler = StandardScaler()\n",
        "X_train_scaled = scaler.fit_transform(X_train)\n",
        "X_test_scaled = scaler.transform(X_test)\n",
        "print(\"Features scaled using StandardScaler.\")"
      ],
      "metadata": {
        "id": "DupxAf8hq00F",
        "colab": {
          "base_uri": "https://localhost:8080/"
        },
        "outputId": "a7184f1f-0e02-4b04-e483-d8bebdb5476a"
      },
      "execution_count": null,
      "outputs": [
        {
          "output_type": "stream",
          "name": "stdout",
          "text": [
            "Features scaled using StandardScaler.\n"
          ]
        }
      ]
    },
    {
      "cell_type": "markdown",
      "source": [
        "## Finding an Optimal K"
      ],
      "metadata": {
        "id": "_OKjAPxwpeH1"
      }
    },
    {
      "cell_type": "code",
      "source": [
        "# --- 3. Finding an Optimal K (Number of Neighbors) ---\n",
        "# We can try a range of k values and see which one performs best on a validation set or using cross-validation.\n",
        "# For simplicity, we'll iterate and check accuracy, but GridSearchCV is more robust.\n",
        "\n",
        "param_grid = {'n_neighbors': np.arange(1, 31)} # Test K from 1 to 30\n",
        "knn_gscv = GridSearchCV(KNeighborsClassifier(), param_grid, cv=5, scoring='roc_auc') # 5-fold cross-validation, optimizing for AUC\n",
        "print(\"\\nSearching for optimal K using GridSearchCV...\")\n",
        "knn_gscv.fit(X_train_scaled, y_train)\n",
        "\n",
        "best_k = knn_gscv.best_params_['n_neighbors']\n",
        "print(f\"Best K found: {best_k}\")\n",
        "print(f\"Best AUC score during CV: {knn_gscv.best_score_:.4f}\")"
      ],
      "metadata": {
        "id": "0TFcJPXvpga9",
        "colab": {
          "base_uri": "https://localhost:8080/"
        },
        "outputId": "d45cc7b7-289a-412d-ac9b-b0191920e666"
      },
      "execution_count": null,
      "outputs": [
        {
          "output_type": "stream",
          "name": "stdout",
          "text": [
            "\n",
            "Searching for optimal K using GridSearchCV...\n",
            "Best K found: 30\n",
            "Best AUC score during CV: 0.8104\n"
          ]
        }
      ]
    },
    {
      "cell_type": "markdown",
      "source": [
        "## KNN Model Training"
      ],
      "metadata": {
        "id": "qHxAqhsfpilO"
      }
    },
    {
      "cell_type": "code",
      "source": [
        "print(f\"\\nTraining KNN model with K={best_k}...\")\n",
        "knn_classifier = KNeighborsClassifier(n_neighbors=best_k)\n",
        "knn_classifier.fit(X_train_scaled, y_train)\n",
        "print(\"Model training complete.\")"
      ],
      "metadata": {
        "id": "Afe8x4-spkGN",
        "colab": {
          "base_uri": "https://localhost:8080/"
        },
        "outputId": "1a2fc5f7-6700-47cd-8211-66a71d675773"
      },
      "execution_count": null,
      "outputs": [
        {
          "output_type": "stream",
          "name": "stdout",
          "text": [
            "\n",
            "Training KNN model with K=30...\n",
            "Model training complete.\n"
          ]
        }
      ]
    },
    {
      "cell_type": "markdown",
      "source": [
        "## Model Evaluation"
      ],
      "metadata": {
        "id": "aOi4ogLGpleY"
      }
    },
    {
      "cell_type": "code",
      "source": [
        "print(\"\\nEvaluating the KNN model on the test set...\")\n",
        "\n",
        "# Make predictions\n",
        "y_pred_classes = (knn_classifier.predict_proba(X_test_scaled)[:, POSITIVE_CLASS_LABEL] >= 0.91).astype(bool)\n",
        "y_pred_proba = knn_classifier.predict_proba(X_test_scaled)[:, POSITIVE_CLASS_LABEL] # Probabilities for the positive class\n",
        "\n",
        "# Confusion Matrix\n",
        "print(\"\\nConfusion Matrix:\")\n",
        "cm = confusion_matrix(y_test, y_pred_classes)\n",
        "print(cm)\n",
        "\n",
        "# Classification Report\n",
        "print(\"\\nClassification Report:\")\n",
        "target_names = [f'Class {NEGATIVE_CLASS_LABEL} (e.g. Failed)', f'Class {POSITIVE_CLASS_LABEL} (e.g. Success)']\n",
        "print(classification_report(y_test, y_pred_classes, target_names=target_names))\n",
        "\n",
        "# Balanced Accuracy\n",
        "bal_acc = balanced_accuracy_score(y_test, y_pred_classes)\n",
        "print(f\"Balanced Accuracy: {bal_acc:.4f}\")\n",
        "\n",
        "# AUC-ROC\n",
        "roc_auc = roc_auc_score(y_test, y_pred_proba)\n",
        "print(f\"AUC-ROC: {roc_auc:.4f}\")\n",
        "\n",
        "from sklearn.metrics import f1_score\n",
        "print(f1_score(y_test, y_pred_classes))"
      ],
      "metadata": {
        "id": "rY_y5mGdpnG1",
        "colab": {
          "base_uri": "https://localhost:8080/"
        },
        "outputId": "70ee5cbc-8906-4b39-8be3-7513e1bbb352"
      },
      "execution_count": null,
      "outputs": [
        {
          "output_type": "stream",
          "name": "stdout",
          "text": [
            "\n",
            "Evaluating the KNN model on the test set...\n",
            "\n",
            "Confusion Matrix:\n",
            "[[ 130   53]\n",
            " [ 363 1568]]\n",
            "\n",
            "Classification Report:\n",
            "                        precision    recall  f1-score   support\n",
            "\n",
            " Class 0 (e.g. Failed)       0.26      0.71      0.38       183\n",
            "Class 1 (e.g. Success)       0.97      0.81      0.88      1931\n",
            "\n",
            "              accuracy                           0.80      2114\n",
            "             macro avg       0.62      0.76      0.63      2114\n",
            "          weighted avg       0.91      0.80      0.84      2114\n",
            "\n",
            "Balanced Accuracy: 0.7612\n",
            "AUC-ROC: 0.8304\n",
            "0.8828828828828829\n"
          ]
        }
      ]
    },
    {
      "cell_type": "code",
      "source": [
        "import matplotlib.pyplot as plt\n",
        "from sklearn.metrics import roc_curve, auc\n",
        "\n",
        "# Assuming y_pred_proba_balanced is available from previous code\n",
        "# If not, uncomment the following lines to compute the predicted probabilities\n",
        "# y_pred_proba_balanced = svm_classifier_balanced.predict_proba(X_test)[:, 1]\n",
        "\n",
        "fpr, tpr, thresholds = roc_curve(y_test, y_pred_proba)\n",
        "roc_auc = auc(fpr, tpr)\n",
        "\n",
        "plt.figure()\n",
        "plt.plot(fpr, tpr, color='darkorange', lw=2, label='ROC curve (area = %0.2f)' % roc_auc)\n",
        "plt.plot([0, 1], [0, 1], color='navy', lw=2, linestyle='--')\n",
        "plt.xlim([0.0, 1.0])\n",
        "plt.ylim([0.0, 1.05])\n",
        "plt.xlabel('False Positive Rate')\n",
        "plt.ylabel('True Positive Rate')\n",
        "plt.title('Receiver Operating Characteristic')\n",
        "plt.legend(loc=\"lower right\")\n",
        "plt.show()"
      ],
      "metadata": {
        "id": "RLKOJj6lwHoU",
        "colab": {
          "base_uri": "https://localhost:8080/",
          "height": 472
        },
        "outputId": "d3fcedd7-480b-434d-c951-d58e43794cee"
      },
      "execution_count": null,
      "outputs": [
        {
          "output_type": "display_data",
          "data": {
            "text/plain": [
              "<Figure size 640x480 with 1 Axes>"
            ],
            "image/png": "[encoded data removed]"
          },
          "metadata": {}
        }
      ]
    },
    {
      "cell_type": "markdown",
      "source": [
        "## Youden's Index"
      ],
      "metadata": {
        "id": "zwsxANI2pvdd"
      }
    },
    {
      "cell_type": "code",
      "source": [
        "if cm.shape == (2,2): # Ensure it's a 2x2 matrix\n",
        "    # Standard scikit-learn confusion matrix structure:\n",
        "    # TN = cm[0, 0] (Predicted Negative, Actual Negative)\n",
        "    # FP = cm[0, 1] (Predicted Positive, Actual Negative)\n",
        "    # FN = cm[1, 0] (Predicted Negative, Actual Positive)\n",
        "    # TP = cm[1, 1] (Predicted Positive, Actual Positive)\n",
        "    # This assumes NEGATIVE_CLASS_LABEL (e.g., 0) is the first row/col,\n",
        "    # and POSITIVE_CLASS_LABEL (e.g., 1) is the second row/col.\n",
        "    TN, FP, FN, TP = cm.ravel()\n",
        "\n",
        "    # Sensitivity (True Positive Rate or Recall for the POSITIVE_CLASS_LABEL)\n",
        "    if (TP + FN) == 0:\n",
        "        sensitivity = 0.0\n",
        "        print(\"Warning: Denominator for sensitivity (TP + FN) is zero.\")\n",
        "    else:\n",
        "        sensitivity = TP / (TP + FN)\n",
        "\n",
        "    # Specificity (True Negative Rate for the NEGATIVE_CLASS_LABEL)\n",
        "    if (TN + FP) == 0:\n",
        "        specificity = 0.0\n",
        "        print(\"Warning: Denominator for specificity (TN + FP) is zero.\")\n",
        "    else:\n",
        "        specificity = TN / (TN + FP)\n",
        "\n",
        "    youden_index = sensitivity + specificity - 1\n",
        "\n",
        "    print(f\"\\nSensitivity (Recall for Class {POSITIVE_CLASS_LABEL}): {sensitivity:.4f}\")\n",
        "    print(f\"Specificity (for Class {NEGATIVE_CLASS_LABEL}): {specificity:.4f}\")\n",
        "    print(f\"Youden's Index: {youden_index:.4f}\")\n",
        "else:\n",
        "    print(\"\\nCould not calculate Youden's Index because the confusion matrix is not 2x2 (binary).\")"
      ],
      "metadata": {
        "id": "rIJ7tqBIpxIl",
        "colab": {
          "base_uri": "https://localhost:8080/"
        },
        "outputId": "f19da47f-a74b-41ea-9811-2917e5575c39"
      },
      "execution_count": null,
      "outputs": [
        {
          "output_type": "stream",
          "name": "stdout",
          "text": [
            "\n",
            "Sensitivity (Recall for Class 1): 0.8120\n",
            "Specificity (for Class 0): 0.7104\n",
            "Youden's Index: 0.5224\n"
          ]
        }
      ]
    },
    {
      "cell_type": "markdown",
      "source": [
        "## Plot GridSearchCV"
      ],
      "metadata": {
        "id": "o4soicHEp4jV"
      }
    },
    {
      "cell_type": "code",
      "source": [
        "# --- Optional: Plot GridSearchCV results (AUC vs. K) ---\n",
        "try:\n",
        "    plt.figure(figsize=(10, 6))\n",
        "    plt.plot(param_grid['n_neighbors'], knn_gscv.cv_results_['mean_test_score'], marker='o', linestyle='-')\n",
        "    plt.title('KNN Performance (AUC) vs. Number of Neighbors (K)')\n",
        "    plt.xlabel('Number of Neighbors (K)')\n",
        "    plt.ylabel('Mean Cross-Validated AUC')\n",
        "    plt.xticks(param_grid['n_neighbors'])\n",
        "    plt.grid(True)\n",
        "    plt.axvline(best_k, color='red', linestyle='--', label=f'Best K = {best_k} (AUC: {knn_gscv.best_score_:.2f})')\n",
        "    plt.legend()\n",
        "    plt.show()\n",
        "except Exception as e:\n",
        "    print(f\"\\nCould not generate GridSearchCV plot: {e}\")"
      ],
      "metadata": {
        "id": "VDWCcULup3FV",
        "colab": {
          "base_uri": "https://localhost:8080/",
          "height": 564
        },
        "outputId": "2ea45dee-87c7-459a-eb5f-c703b6a04fec"
      },
      "execution_count": null,
      "outputs": [
        {
          "output_type": "display_data",
          "data": {
            "text/plain": [
              "<Figure size 1000x600 with 1 Axes>"
            ],
            "image/png": "[encoded data removed]"
          },
          "metadata": {}
        }
      ]
    },
    {
      "cell_type": "code",
      "source": [
        "# save model pt file\n",
        "import pickle\n",
        "with open('/content/drive/MyDrive/medical-data/data/model_multi/KNN/KNN_classifier_balanced.pkl', 'wb') as file:\n",
        "    pickle.dump(knn_classifier, file)"
      ],
      "metadata": {
        "id": "_wnJWAmsqibn"
      },
      "execution_count": null,
      "outputs": []
    },
    {
      "cell_type": "code",
      "source": [
        "np.savetxt('/content/drive/MyDrive/medical-data/data/model_multi/KNN/y_test_KNN.csv', y_test, delimiter=',')\n",
        "np.savetxt('/content/drive/MyDrive/medical-data/data/model_multi/KNN/y_pred_proba_KNN.csv', y_pred_proba, delimiter=',')\n",
        "np.savetxt('/content/drive/MyDrive/medical-data/data/model_multi/KNN/X_train_KNN.csv', X_train, delimiter=',')\n",
        "np.savetxt('/content/drive/MyDrive/medical-data/data/model_multi/KNN/X_test_KNN.csv', X_test, delimiter=',')"
      ],
      "metadata": {
        "id": "mPr07AKuwOSz"
      },
      "execution_count": null,
      "outputs": []
    }
  ]
}